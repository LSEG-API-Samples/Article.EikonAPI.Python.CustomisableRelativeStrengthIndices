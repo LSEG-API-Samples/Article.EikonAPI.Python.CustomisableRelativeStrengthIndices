{
 "cells": [
  {
   "cell_type": "markdown",
   "metadata": {},
   "source": [
    "# Technical Analysis Indicators: Customisable Relative Strength Indices (and Moving Averages & Volatilities)\n",
    "\n",
    "In this article, we build a data-frame to output an instrument's Daily (i) Close Prices, (ii) ln (logarithme naturel / natural logarithm) Return, (iii) Close Price's 10, 30 and 60 Day Moving Averages, (iv) Close Price's ln Return 10, 30 and 60 Day Moving Average, (v) Annualised Standard Deviation (i.e.: volatility) of the 10, 30 and 60 Day Rolling Window (Natural Log) Returns (based on CLOSE prices), and (vi) [Relative Strength Index (RSI)](https://www.investopedia.com/terms/r/rsi.asp).\n",
    "\n",
    "When it comes to the RSI data, a great article to read about its implementation can be found [here](https://developers.refinitiv.com/article/create-technical-analysis-triggers-and-signals-using-eikon-data-api) (thank you [Umer](https://www.linkedin.com/in/umer-nalla/) and [Jason](https://www.linkedin.com/in/jason-ramchandani-8459599/)!). You may want to read into the [installation of the TA-Lib library used to compute RSI data here](https://github.com/mrjbq7/ta-lib). You may also want to read into how the way TA-lib calculates RSI; as per its [GitHub documentation](https://github.com/mrjbq7/ta-lib/blob/master/docs/func_groups/momentum_indicators.md), it uses a [Wilder Smoothing method to compute Moving Averages](http://www.tadoc.org/indicator/RSI.htm). Others may use different such methods (e.g.: Exponential Moving Average or Simple Moving Average). More information on [Refinitiv Workspace's Chart App](cpurl://apps.cp./Apps/NewFinancialChart/?st=RIC) RSI can be found [here](https://emea1.apps.cp.thomsonreuters.com/Apps/HelpCharts/#cs) and [here](https://www.tradingview.com/support/solutions/43000502338-relative-strength-index-rsi/). Previous RSI Python functions do not provide great amounts of customisation; in this article, we will create a Python function that does just that."
   ]
  },
  {
   "cell_type": "markdown",
   "metadata": {
    "tags": []
   },
   "source": [
    "## Relative Strength Index\n",
    "The [Relative Strength Index (RSI)](https://www.investopedia.com/terms/r/rsi.asp) is a value between 0 and 100 calculated for any one asset based on its historical price; it indicates an asset as oversold if bellow a certain threshold - *idest* (*i.e.*): it's underpriced - and overbought if above a certain threshold - *i.e.*: it's overpriced. RSI at time $t$ is calculated $RSI_{w, m, t}$ where $w$ is the window asked for (e.g.: 14) and where $m$ is either (i) $SMA$ (Simple Moving Average) or $Cutler$, (ii) $EMA$ (Exponential Moving Average), or (iii) $Wilder$ or $MEMA$ (Modified Exponential Moving Average):"
   ]
  },
  {
   "cell_type": "markdown",
   "metadata": {},
   "source": [
    "(i) with $SMA$ (Simple Moving Average) or $Cutler$ such that $m_1=\\{SMA, Cutler\\}$:\n",
    "$$ RSI_{w, m_1, t} = \n",
    "    \\begin{Bmatrix}\n",
    "        100 & \\text{if } \\sum_{i=1}^w{|min(P_{t-i+1} - P_{t-i} \\text{ }, \\text{ } 0)|} = 0 \\\\\n",
    "        100 - \\frac{100}{ 1 +\\frac{\n",
    "\t        \\sum_{i=1}^w{max(P_{t-i+1} - P_{t-i} \\text{ }, \\text{ } 0)}}\n",
    "\t        {\\sum_{i=1}^w{|min(P_{t-i+1} - P_{t-i} \\text{ }, \\text{ } 0)|}}\n",
    "\t    } & \\text{otherwise}\n",
    "    \\end{Bmatrix}\n",
    "$$"
   ]
  },
  {
   "cell_type": "markdown",
   "metadata": {},
   "source": [
    "(ii) & (iii) with $EMA$, or $Wilder$ / $MEMA$ such that $m_2=\\{EMA, Wilder, MEMA\\}$:\n",
    "\n",
    "$$\n",
    "RSI_{w, m_2, 1} = RSI_{w, m_1, 1}\n",
    "$$\n",
    "\n",
    "and\n",
    "\n",
    "$$ RSI_{w, m_2, \\tau} = \n",
    "\t100 - \\frac{100}{\n",
    "\t    \\left[ 1 + \n",
    "\t        \\frac{\n",
    "\t\t        a_m * \\left(\n",
    "\t\t        \tmax(P_{\\tau} - P_{\\tau-i} \\text{ }, \\text{ } 0) \\right)\n",
    "\t\t        + (1 - a_m) * \\left(\n",
    "\t\t        \t\\sum_{i=1}^w{max(P_{\\tau-i+1} - P_{\\tau-i} \\text{ }, \\text{ } 0)} \\right)}{\n",
    "\t\t    \ta_m * \\left(\n",
    "\t\t        \t|min(P_{\\tau} - P_{\\tau-1} \\text{ }, \\text{ } 0)| \\right)\n",
    "\t\t        + (1 - a_m) * \\left(\n",
    "\t\t        \t\\sum_{i=1}^w{|min(P_{\\tau-i+1} - P_{\\tau-i} \\text{ }, \\text{ } 0)|} \\right)}\n",
    "\t\t\\right]}\n",
    "$$\n",
    "\n",
    "where $\\tau > 1$, and\n",
    "\n",
    "$$ a_m = \n",
    "    \\begin{Bmatrix}\n",
    "        a_{MEMA} = a_{Wilder} = & \\frac{1}{w} & \\text{if } m \\text{ is } MEMA \\text{ or } Wilder \\\\\n",
    "        a_{EMA} = & \\frac{2}{w + 1} & \\text{if } m = EMA\n",
    "    \\end{Bmatrix}\n",
    "$$"
   ]
  },
  {
   "cell_type": "markdown",
   "metadata": {},
   "source": [
    "And it is computed as such:"
   ]
  },
  {
   "cell_type": "code",
   "execution_count": 1,
   "metadata": {},
   "outputs": [],
   "source": [
    "start_date, end_date, bdpy = '2020-01-01', '2021-08-01', 360  # ' bdpy ' stands for 'business days per year'\n",
    "maws = [10, 30, 60]  # ' maws ' stands for 'moving average windows'\n",
    "rsiw = 14\n",
    "rsi_method = \"Wilder\"  # \"SMA\", \"EMA\", \"Wilder\"\n",
    "ric_list = ['KO.N', 'VOD.L']"
   ]
  },
  {
   "cell_type": "code",
   "execution_count": 2,
   "metadata": {},
   "outputs": [],
   "source": [
    "from datetime import datetime\n",
    "from dateutil.relativedelta import relativedelta  # '2.8.1'\n",
    "import numpy  # '1.18.2'\n",
    "import statistics\n",
    "import pandas  # '1.2.4'\n",
    "pandas.set_option('display.max_columns', None) # This allows us to see all the collumns of our dataframe"
   ]
  },
  {
   "cell_type": "code",
   "execution_count": 3,
   "metadata": {
    "tags": []
   },
   "outputs": [],
   "source": [
    "import eikon as ek\n",
    "# The key is placed in a text file so that it may be used in this code without showing it itself:\n",
    "eikon_key = open(\"eikon.txt\", \"r\")\n",
    "ek.set_app_key(str(eikon_key.read()))\n",
    "# It is best to close the files we opened in order to make sure that we don't stop any other services/programs from accessing them if they need to:\n",
    "eikon_key.close()"
   ]
  },
  {
   "cell_type": "code",
   "execution_count": 4,
   "metadata": {},
   "outputs": [],
   "source": [
    "df1, err = ek.get_data(\n",
    "    instruments=ric_list,\n",
    "    fields=['TR.PriceClose.date', 'TR.PriceOpen', 'TR.PriceClose', 'TR.VOlume'],  # could also have TR.RSISimple30D & TR.RSISimple14D\n",
    "    parameters={'SDate': start_date, 'EDate': end_date})"
   ]
  },
  {
   "cell_type": "code",
   "execution_count": 5,
   "metadata": {
    "tags": []
   },
   "outputs": [],
   "source": [
    "# Step 1: Create a list of days ranging throughout our period.\n",
    "# The reason we look at every day is because some securities might trade on Sunday (e.g.: in middle-east)\n",
    "delta = datetime.strptime(end_date, '%Y-%m-%d') - datetime.strptime(start_date, '%Y-%m-%d')\n",
    "days = [datetime.strptime(start_date, '%Y-%m-%d') + relativedelta(days=i)\n",
    "        for i in range(delta.days + 1)]\n",
    "\n",
    "# Step 2: Create a pandas data-frame to populate with a loop\n",
    "df2 = pandas.DataFrame(index=days)\n",
    "\n",
    "# Step 3: Create a loop to populate our 'df' dataframe\n",
    "# for m, i in enumerate(ric_list):\n",
    "for i in ric_list:\n",
    "\n",
    "    # get Close Prices: (You may use any way to collect such data, here we are recycling previous data)\n",
    "    _df = pandas.DataFrame(\n",
    "        data=[float(j) for j in df1[df1[\"Instrument\"] == i][\"Price Close\"]],\n",
    "        columns=[f\"{i} Close\"],\n",
    "        index=[datetime.strptime(df1[df1[\"Instrument\"] == i][\"Date\"][j],\n",
    "                                 '%Y-%m-%dT%H:%M:%SZ')\n",
    "               for j in list(df1[df1[\"Instrument\"] == i][\"Date\"].index)])\n",
    "\n",
    "    # get ln (logarithme naturel) return from Close Prices:\n",
    "    _df[f\"{i}'s ln Return\"] = numpy.log(\n",
    "        _df[f\"{i} Close\"] / _df[i + \" Close\"].shift(1))\n",
    "\n",
    "    # get 1st difference in Close Prices:\n",
    "    dCP = list((_df[f\"{i} Close\"] - _df[f\"{i} Close\"].shift(1)))\n",
    "#     dCP.insert(0, numpy.nan)\n",
    "    # list.reverse(dCP)\n",
    "    _df[f\"{i}'s 1d Close\"] = dCP\n",
    "\n",
    "    for j in maws:\n",
    "        # get Close Price's 10, 30 and 60 Day Moving Averages\n",
    "        _df[f\"{i}'s Close {str(j)}D MA\"] = _df[f\"{i} Close\"].dropna().rolling(j).mean()\n",
    "\n",
    "        # get Close Price's ln Return 10, 30 and 60 Day Moving Average\n",
    "        _df[f\"{i}'s ln Return' {str(j)}D MA\"] = _df[f\"{i}'s ln Return\"].dropna().rolling(j).mean()\n",
    "#         # You may also want to look into TA-lib's Simple Moving Average function:\n",
    "#         _df[i + \"'s ln Return' \" + str(j) + \" Day Moving Average\"] = ta.SMA(_df[i + \" Close\"], j)\n",
    "\n",
    "        # get Annualised Standard Deviation (i.e.: volatility) of the 10, 30 and 60 Day Rolling Window (Natural Log) Returns (based on CLOSE prices)\n",
    "        _df[f\"{i}'s Ann. S.D. of {str(j)}D Roll. of ln Returns\"] = _df[f\"{i}'s ln Return\"].dropna().rolling(j).std()*(bdpy**0.5)\n",
    "\n",
    "\n",
    "    # RSI: Simple Moving Average\n",
    "    if rsi_method == \"SMA\" or rsi_method == \"Cutler\":\n",
    "        RSIw = []\n",
    "        for k in range(len(dCP) - rsiw):\n",
    "            up_moves, down_moves = [], []\n",
    "            for j in range(k, k + rsiw):\n",
    "                up_moves.append(max(dCP[j + 1], 0))  # ' + 1 ' because we're looking at 1st difference data, the 1st element of which is always nan.\n",
    "                down_moves.append(abs(min(dCP[j + 1], 0)))   # ' + 1 ' because we're looking at 1st difference data, the 1st element of which is always nan.\n",
    "            AvgU = statistics.mean(up_moves)\n",
    "            AvgD = statistics.mean(down_moves)\n",
    "            if AvgD == 0:\n",
    "                RSIw.append(100)\n",
    "            else:\n",
    "                RSw = AvgU/AvgD\n",
    "                RSIw.append(100-(100/(1+RSw)))\n",
    "    # RSI: Exponential Moving Average\n",
    "    if rsi_method == \"EMA\" or rsi_method == \"MEMA\" or rsi_method == \"Wilder\":\n",
    "        if rsi_method == \"MEMA\" or rsi_method == \"Wilder\":\n",
    "            a = 1 / rsiw\n",
    "        elif rsi_method == \"EMA\":\n",
    "            a = 2 / (rsiw + 1)\n",
    "        RSIw, up_moves, down_moves = [], [], []\n",
    "        for k in dCP[1:]:  # ' [1:] ' because we're looking at 1st difference data, the 1st element of which is always nan.\n",
    "            up_moves.append(max(k, 0))\n",
    "            down_moves.append(abs(min(k, 0)))\n",
    "        AvgU = [statistics.mean(up_moves[0:rsiw])]\n",
    "        AvgD = [statistics.mean(down_moves[0:rsiw])]\n",
    "        if AvgD[0] == 0:\n",
    "            RSIw.append(100)\n",
    "        else:\n",
    "            RSw = AvgU[0] / AvgD[0]\n",
    "            RSIw.append(100 - (100 / (1 + RSw)))\n",
    "        for k in range(rsiw, len(up_moves)):\n",
    "            AvgU.append(a * up_moves[k] + (1 - a) * AvgU[k - rsiw])\n",
    "            AvgD.append(a * down_moves[k] + (1 - a) * AvgD[k - rsiw])\n",
    "            RSw = AvgU[k - rsiw] / AvgD[k - rsiw]\n",
    "            RSIw.append(100 - (100 / (1 + RSw)))\n",
    "    RSIw.append(numpy.nan)  # This is needed to inser the nan from the 1st difference that was already nan\n",
    "    for k in range(len(_df.index) - len(RSIw)):\n",
    "        RSIw.insert(0, numpy.nan)\n",
    "    _df[f\"{i}'s RSI{rsiw}\"] = RSIw\n",
    "\n",
    "    # Finally: merge all.\n",
    "    df2 = pandas.merge(\n",
    "        df2, _df, how=\"outer\", left_index=True, right_index=True)"
   ]
  },
  {
   "cell_type": "markdown",
   "metadata": {},
   "source": [
    "display response"
   ]
  },
  {
   "cell_type": "code",
   "execution_count": 6,
   "metadata": {},
   "outputs": [
    {
     "data": {
      "text/html": [
       "        <script type=\"text/javascript\">\n",
       "        window.PlotlyConfig = {MathJaxConfig: 'local'};\n",
       "        if (window.MathJax) {MathJax.Hub.Config({SVG: {font: \"STIX-Web\"}});}\n",
       "        if (typeof require !== 'undefined') {\n",
       "        require.undef(\"plotly\");\n",
       "        requirejs.config({\n",
       "            paths: {\n",
       "                'plotly': ['https://cdn.plot.ly/plotly-latest.min']\n",
       "            }\n",
       "        });\n",
       "        require(['plotly'], function(Plotly) {\n",
       "            window._Plotly = Plotly;\n",
       "        });\n",
       "        }\n",
       "        </script>\n",
       "        "
      ]
     },
     "metadata": {},
     "output_type": "display_data"
    },
    {
     "data": {
      "text/html": [
       "        <script type=\"text/javascript\">\n",
       "        window.PlotlyConfig = {MathJaxConfig: 'local'};\n",
       "        if (window.MathJax) {MathJax.Hub.Config({SVG: {font: \"STIX-Web\"}});}\n",
       "        if (typeof require !== 'undefined') {\n",
       "        require.undef(\"plotly\");\n",
       "        requirejs.config({\n",
       "            paths: {\n",
       "                'plotly': ['https://cdn.plot.ly/plotly-latest.min']\n",
       "            }\n",
       "        });\n",
       "        require(['plotly'], function(Plotly) {\n",
       "            window._Plotly = Plotly;\n",
       "        });\n",
       "        }\n",
       "        </script>\n",
       "        "
      ]
     },
     "metadata": {},
     "output_type": "display_data"
    }
   ],
   "source": [
    "import plotly\n",
    "import plotly.express\n",
    "from plotly.graph_objs import *\n",
    "from plotly.offline import download_plotlyjs, init_notebook_mode, plot, iplot\n",
    "init_notebook_mode(connected=True)\n",
    "import cufflinks\n",
    "cufflinks.go_offline()"
   ]
  },
  {
   "cell_type": "code",
   "execution_count": 7,
   "metadata": {},
   "outputs": [
    {
     "data": {
      "application/vnd.plotly.v1+json": {
       "config": {
        "linkText": "Export to chart-studio.plotly.com",
        "plotlyServerURL": "https://chart-studio.plotly.com",
        "showLink": true
       },
       "data": [
        {
         "line": {
          "color": "rgba(0, 30, 255, 1.0)",
          "dash": "solid",
          "shape": "linear",
          "width": 1.3
         },
         "mode": "lines",
         "name": "KO.N's RSI14",
         "text": "",
         "type": "scatter",
         "x": [
          "2020-01-22",
          "2020-01-23",
          "2020-01-24",
          "2020-01-27",
          "2020-01-28",
          "2020-01-29",
          "2020-01-30",
          "2020-01-31",
          "2020-02-03",
          "2020-02-04",
          "2020-02-05",
          "2020-02-06",
          "2020-02-07",
          "2020-02-10",
          "2020-02-11",
          "2020-02-12",
          "2020-02-13",
          "2020-02-14",
          "2020-02-18",
          "2020-02-19",
          "2020-02-20",
          "2020-02-21",
          "2020-02-24",
          "2020-02-25",
          "2020-02-26",
          "2020-02-27",
          "2020-02-28",
          "2020-03-02",
          "2020-03-03",
          "2020-03-04",
          "2020-03-05",
          "2020-03-06",
          "2020-03-09",
          "2020-03-10",
          "2020-03-11",
          "2020-03-12",
          "2020-03-13",
          "2020-03-16",
          "2020-03-17",
          "2020-03-18",
          "2020-03-19",
          "2020-03-20",
          "2020-03-23",
          "2020-03-24",
          "2020-03-25",
          "2020-03-26",
          "2020-03-27",
          "2020-03-30",
          "2020-03-31",
          "2020-04-01",
          "2020-04-02",
          "2020-04-03",
          "2020-04-06",
          "2020-04-07",
          "2020-04-08",
          "2020-04-09",
          "2020-04-13",
          "2020-04-14",
          "2020-04-15",
          "2020-04-16",
          "2020-04-17",
          "2020-04-20",
          "2020-04-21",
          "2020-04-22",
          "2020-04-23",
          "2020-04-24",
          "2020-04-27",
          "2020-04-28",
          "2020-04-29",
          "2020-04-30",
          "2020-05-01",
          "2020-05-04",
          "2020-05-05",
          "2020-05-06",
          "2020-05-07",
          "2020-05-08",
          "2020-05-11",
          "2020-05-12",
          "2020-05-13",
          "2020-05-14",
          "2020-05-15",
          "2020-05-18",
          "2020-05-19",
          "2020-05-20",
          "2020-05-21",
          "2020-05-22",
          "2020-05-26",
          "2020-05-27",
          "2020-05-28",
          "2020-05-29",
          "2020-06-01",
          "2020-06-02",
          "2020-06-03",
          "2020-06-04",
          "2020-06-05",
          "2020-06-08",
          "2020-06-09",
          "2020-06-10",
          "2020-06-11",
          "2020-06-12",
          "2020-06-15",
          "2020-06-16",
          "2020-06-17",
          "2020-06-18",
          "2020-06-19",
          "2020-06-22",
          "2020-06-23",
          "2020-06-24",
          "2020-06-25",
          "2020-06-26",
          "2020-06-29",
          "2020-06-30",
          "2020-07-01",
          "2020-07-02",
          "2020-07-06",
          "2020-07-07",
          "2020-07-08",
          "2020-07-09",
          "2020-07-10",
          "2020-07-13",
          "2020-07-14",
          "2020-07-15",
          "2020-07-16",
          "2020-07-17",
          "2020-07-20",
          "2020-07-21",
          "2020-07-22",
          "2020-07-23",
          "2020-07-24",
          "2020-07-27",
          "2020-07-28",
          "2020-07-29",
          "2020-07-30",
          "2020-07-31",
          "2020-08-03",
          "2020-08-04",
          "2020-08-05",
          "2020-08-06",
          "2020-08-07",
          "2020-08-10",
          "2020-08-11",
          "2020-08-12",
          "2020-08-13",
          "2020-08-14",
          "2020-08-17",
          "2020-08-18",
          "2020-08-19",
          "2020-08-20",
          "2020-08-21",
          "2020-08-24",
          "2020-08-25",
          "2020-08-26",
          "2020-08-27",
          "2020-08-28",
          "2020-08-31",
          "2020-09-01",
          "2020-09-02",
          "2020-09-03",
          "2020-09-04",
          "2020-09-08",
          "2020-09-09",
          "2020-09-10",
          "2020-09-11",
          "2020-09-14",
          "2020-09-15",
          "2020-09-16",
          "2020-09-17",
          "2020-09-18",
          "2020-09-21",
          "2020-09-22",
          "2020-09-23",
          "2020-09-24",
          "2020-09-25",
          "2020-09-28",
          "2020-09-29",
          "2020-09-30",
          "2020-10-01",
          "2020-10-02",
          "2020-10-05",
          "2020-10-06",
          "2020-10-07",
          "2020-10-08",
          "2020-10-09",
          "2020-10-12",
          "2020-10-13",
          "2020-10-14",
          "2020-10-15",
          "2020-10-16",
          "2020-10-19",
          "2020-10-20",
          "2020-10-21",
          "2020-10-22",
          "2020-10-23",
          "2020-10-26",
          "2020-10-27",
          "2020-10-28",
          "2020-10-29",
          "2020-10-30",
          "2020-11-02",
          "2020-11-03",
          "2020-11-04",
          "2020-11-05",
          "2020-11-06",
          "2020-11-09",
          "2020-11-10",
          "2020-11-11",
          "2020-11-12",
          "2020-11-13",
          "2020-11-16",
          "2020-11-17",
          "2020-11-18",
          "2020-11-19",
          "2020-11-20",
          "2020-11-23",
          "2020-11-24",
          "2020-11-25",
          "2020-11-27",
          "2020-11-30",
          "2020-12-01",
          "2020-12-02",
          "2020-12-03",
          "2020-12-04",
          "2020-12-07",
          "2020-12-08",
          "2020-12-09",
          "2020-12-10",
          "2020-12-11",
          "2020-12-14",
          "2020-12-15",
          "2020-12-16",
          "2020-12-17",
          "2020-12-18",
          "2020-12-21",
          "2020-12-22",
          "2020-12-23",
          "2020-12-24",
          "2020-12-28",
          "2020-12-29",
          "2020-12-30",
          "2020-12-31",
          "2021-01-04",
          "2021-01-05",
          "2021-01-06",
          "2021-01-07",
          "2021-01-08",
          "2021-01-11",
          "2021-01-12",
          "2021-01-13",
          "2021-01-14",
          "2021-01-15",
          "2021-01-19",
          "2021-01-20",
          "2021-01-21",
          "2021-01-22",
          "2021-01-25",
          "2021-01-26",
          "2021-01-27",
          "2021-01-28",
          "2021-01-29",
          "2021-02-01",
          "2021-02-02",
          "2021-02-03",
          "2021-02-04",
          "2021-02-05",
          "2021-02-08",
          "2021-02-09",
          "2021-02-10",
          "2021-02-11",
          "2021-02-12",
          "2021-02-16",
          "2021-02-17",
          "2021-02-18",
          "2021-02-19",
          "2021-02-22",
          "2021-02-23",
          "2021-02-24",
          "2021-02-25",
          "2021-02-26",
          "2021-03-01",
          "2021-03-02",
          "2021-03-03",
          "2021-03-04",
          "2021-03-05",
          "2021-03-08",
          "2021-03-09",
          "2021-03-10",
          "2021-03-11",
          "2021-03-12",
          "2021-03-15",
          "2021-03-16",
          "2021-03-17",
          "2021-03-18",
          "2021-03-19",
          "2021-03-22",
          "2021-03-23",
          "2021-03-24",
          "2021-03-25",
          "2021-03-26",
          "2021-03-29",
          "2021-03-30",
          "2021-03-31",
          "2021-04-01",
          "2021-04-05",
          "2021-04-06",
          "2021-04-07",
          "2021-04-08",
          "2021-04-09",
          "2021-04-12",
          "2021-04-13",
          "2021-04-14",
          "2021-04-15",
          "2021-04-16",
          "2021-04-19",
          "2021-04-20",
          "2021-04-21",
          "2021-04-22",
          "2021-04-23",
          "2021-04-26",
          "2021-04-27",
          "2021-04-28",
          "2021-04-29",
          "2021-04-30",
          "2021-05-03",
          "2021-05-04",
          "2021-05-05",
          "2021-05-06",
          "2021-05-07",
          "2021-05-10",
          "2021-05-11",
          "2021-05-12",
          "2021-05-13",
          "2021-05-14",
          "2021-05-17",
          "2021-05-18",
          "2021-05-19",
          "2021-05-20",
          "2021-05-21",
          "2021-05-24",
          "2021-05-25",
          "2021-05-26",
          "2021-05-27",
          "2021-05-28",
          "2021-06-01",
          "2021-06-02",
          "2021-06-03",
          "2021-06-04",
          "2021-06-07",
          "2021-06-08",
          "2021-06-09",
          "2021-06-10",
          "2021-06-11",
          "2021-06-14",
          "2021-06-15",
          "2021-06-16",
          "2021-06-17",
          "2021-06-18",
          "2021-06-21",
          "2021-06-22",
          "2021-06-23",
          "2021-06-24",
          "2021-06-25",
          "2021-06-28",
          "2021-06-29",
          "2021-06-30",
          "2021-07-01",
          "2021-07-02",
          "2021-07-06",
          "2021-07-07",
          "2021-07-08",
          "2021-07-09",
          "2021-07-12",
          "2021-07-13",
          "2021-07-14",
          "2021-07-15",
          "2021-07-16",
          "2021-07-19",
          "2021-07-20",
          "2021-07-21",
          "2021-07-22",
          "2021-07-23",
          "2021-07-26",
          "2021-07-27",
          "2021-07-28",
          "2021-07-29"
         ],
         "y": [
          81.004366812227,
          81.004366812227,
          78.2446463335496,
          74.59548850711455,
          66.72050122621641,
          66.72050122621643,
          77.54307953166328,
          71.331446671539,
          72.26760534000931,
          73.60820216630431,
          73.66094001642557,
          74.43126745129636,
          75.532190169545,
          78.34390055542752,
          75.66839028215144,
          72.66199583172342,
          73.90270266321022,
          75.90472049486797,
          68.87571937822958,
          70.55375575630832,
          69.71052996862046,
          72.60213516772559,
          52.951119206657474,
          45.51139519440009,
          43.756490891941326,
          29.093949886844186,
          24.354007131232507,
          41.634468083097346,
          42.45014852324744,
          55.98341482831517,
          46.925251040332746,
          41.961380396940186,
          33.25762038806033,
          40.315830281207674,
          36.927948522762364,
          28.07821504756852,
          32.59112521167262,
          27.96123218188987,
          34.00061259937749,
          30.643235629879797,
          26.93125529193952,
          23.368013544779345,
          22.690262934369926,
          28.40194608658804,
          34.369700313406284,
          40.94658809834061,
          38.64353226790325,
          43.69055303035828,
          42.404127342021354,
          38.90096280673405,
          43.239606381167086,
          43.02385985237323,
          49.45203286208293,
          49.115829277547235,
          51.993582097064575,
          54.49030370203405,
          49.61545830507089,
          53.88652977344759,
          50.831766031188266,
          49.651676675106856,
          51.914643937888044,
          48.19659980522196,
          45.555662332504276,
          46.38106898991095,
          44.890796038836775,
          45.99367297813102,
          50.032080450851204,
          49.912986430351644,
          51.103749189037046,
          47.19280103411709,
          46.293252580765625,
          44.833445585103966,
          45.872400522969855,
          43.65871224447157,
          43.14131870701603,
          49.614608995307165,
          47.41992616936057,
          44.72846270882987,
          41.61920810286484,
          40.78648268363254,
          39.236508441197145,
          47.574789449461285,
          45.8701936714226,
          51.719042591299534,
          48.696875722402325,
          48.10821182609791,
          52.764085055046905,
          55.36789154969697,
          56.81009275926403,
          54.64443209703769,
          56.00990269359731,
          55.487610820910696,
          59.95578790264974,
          60.04217839594083,
          64.82322300496014,
          67.54016123288694,
          61.79179357812755,
          59.359467508342675,
          44.17968857795037,
          44.477560254020545,
          47.96618378424776,
          50.227491153311085,
          49.29484721772637,
          51.39231019902567,
          46.492312070952735,
          45.15397729149229,
          44.65952502522523,
          39.990703392764246,
          41.84255433295761,
          36.0271149210118,
          41.1442416518451,
          43.12865131683595,
          44.017962624172085,
          44.41910057829384,
          46.813243323033134,
          46.68948051718946,
          45.77714858337757,
          38.98048585463822,
          47.88758981028367,
          48.53997006563604,
          52.50953106093821,
          55.65838702575122,
          53.844797867130566,
          57.8122703748006,
          52.713953992575846,
          58.7571396167885,
          64.54114329025134,
          63.05318244607729,
          63.991887566842045,
          63.90861978839841,
          61.33032106503074,
          59.94137960780025,
          57.07060044595523,
          53.320438518172416,
          46.45359802608268,
          49.36711376163423,
          53.10168110638593,
          54.86059899027503,
          56.99824497666868,
          56.280675453468454,
          57.78313394658378,
          61.20193984439853,
          60.672803974094265,
          61.17884207808374,
          58.40404609537952,
          60.10894285814455,
          49.24138532232209,
          49.05944002925178,
          48.38556539327666,
          54.95382325132225,
          54.30665247809157,
          56.6000716443356,
          57.24712266290083,
          68.72484297086574,
          65.1908715622958,
          60.60418389104813,
          71.50487656039712,
          64.87432671621029,
          67.4389667776519,
          57.50721477987012,
          59.492023574473585,
          58.0324399054248,
          63.4238805555453,
          60.65316807846115,
          62.37280230755511,
          60.205875215399836,
          58.19601941299993,
          57.3371335683858,
          47.14622931945937,
          51.07141353215859,
          42.437434021516964,
          45.77366527992113,
          45.911462304823516,
          49.761038818004536,
          47.42431215839837,
          50.55022924392212,
          49.21960215514831,
          50.54767987385321,
          50.70195618706985,
          47.2123564055077,
          52.204235046160505,
          58.359949841019464,
          60.491007715442095,
          62.15946811350937,
          54.463373577759626,
          53.6412680457249,
          52.53115297069032,
          52.854456860858164,
          49.15863831612486,
          54.431377642117106,
          52.03301104120604,
          57.39786639959803,
          55.83830190981474,
          49.34126854588361,
          50.20782366146578,
          36.9888189397314,
          37.53657520949075,
          37.92399953832631,
          43.232519284310136,
          49.317100323669,
          47.95228254368941,
          50.179492834692574,
          50.2643811630677,
          68.37172161817409,
          73.13236623989438,
          69.917225713567,
          65.49826940961412,
          67.22053409682339,
          68.74785684622063,
          67.31237574258556,
          58.966646595358945,
          61.467027258600005,
          58.094589231597745,
          58.14834700043382,
          61.05380505454385,
          58.69708785872675,
          56.82365379644052,
          48.8012846158771,
          51.736480893127016,
          52.205923179966206,
          56.56107899924676,
          62.446455058663545,
          55.891897249842366,
          56.966582476707124,
          57.839928961890735,
          55.57270846655444,
          57.49514687452742,
          56.7894412028527,
          60.50875481584512,
          53.69744034512295,
          55.16089420441759,
          58.33491354137736,
          50.68889689403811,
          50.30712154000365,
          52.759428596720724,
          55.42453053718394,
          60.25407304148393,
          59.962556201913685,
          62.008031130030396,
          64.5263822503185,
          47.05819693658316,
          43.520250884926355,
          35.332646198935564,
          33.07220482934757,
          41.177605054263374,
          37.35015375965496,
          36.97165712151626,
          37.351490002019794,
          33.328325506959416,
          31.261752360555533,
          30.5308841317878,
          32.061346666615364,
          34.52842667805395,
          32.3716280757055,
          35.12299459867127,
          39.76420269429687,
          35.66913637532279,
          41.00659932055708,
          35.841333831857895,
          38.590330886508625,
          42.4527175482882,
          41.344229683741375,
          43.35619365845284,
          48.435598775563825,
          50.45413394487158,
          48.778577462214955,
          47.99829803378504,
          53.59426802793357,
          56.408810396441844,
          52.701742783780496,
          51.48710860307906,
          56.43065049626578,
          50.69366923893571,
          54.609114203959166,
          53.81261312190701,
          55.143489804526844,
          50.195708093317975,
          41.44469784922861,
          48.85057392491486,
          50.33724306302716,
          49.40930657220186,
          49.0844912182432,
          55.742685543151495,
          61.205993658327756,
          54.55119028088392,
          58.19138897252243,
          53.717710320214586,
          49.88278628647458,
          54.399901764112364,
          55.621450667902636,
          55.7558083253543,
          50.265590211802184,
          52.08565222298274,
          53.535354714506035,
          56.44818544796353,
          57.40669704145969,
          60.96510297198192,
          67.01850312201736,
          70.88040477150642,
          63.91521713795418,
          59.92881040122601,
          58.153337744455186,
          60.06456652463243,
          62.40668825840767,
          62.9607483394036,
          61.23294782470601,
          61.6578762978795,
          62.898739963244374,
          59.71567599284449,
          59.59076699268649,
          61.74512022453093,
          64.5912798504857,
          67.00811049343605,
          68.24802120413783,
          71.25878562352389,
          68.55407873978477,
          68.77928561380581,
          56.925148652724765,
          55.90040117923261,
          56.00700944159103,
          62.540915308359814,
          58.62240552599036,
          63.07189680077729,
          58.46769166820849,
          56.63439462796559,
          61.63174036786069,
          61.20972661750425,
          64.68220223877248,
          56.629594882274276,
          53.241960973024376,
          57.80485147102436,
          59.78319118917199,
          58.57331026045141,
          54.606245559015655,
          52.438865121810764,
          57.560831223196686,
          57.14660307091804,
          59.05072479423206,
          58.89416008888456,
          61.530384647125985,
          66.02753317678146,
          62.600980816328416,
          62.4265367385008,
          64.75354487375333,
          66.1886040632564,
          71.53720101999733,
          67.69318533868778,
          60.82908269938338,
          58.0651748803781,
          62.68381138927578,
          65.09111652839596,
          55.65649977305501,
          53.731569713769034,
          44.8932708970897,
          48.35489056282907,
          37.627602897779404,
          44.283245880084614,
          46.37229874999144,
          42.589017653177244,
          45.52595948999365,
          44.88486906628055,
          44.308913242400166,
          40.571243264498975,
          43.76416102975374,
          42.29582804807308,
          45.199874792194926,
          42.08922862771989,
          47.766959387461355,
          45.6840716814293,
          49.780066644207466,
          50.02603360049411,
          56.25577236299855,
          66.5634365030732,
          67.75135456855456,
          67.18016784346193,
          58.31228977477955,
          59.178410479369255,
          64.84222408842145,
          63.78329191153885,
          67.62645612713625,
          67.96542503440551,
          69.34795255068812,
          61.87137846719573,
          64.33967497312773
         ]
        }
       ],
       "layout": {
        "autosize": true,
        "legend": {
         "bgcolor": "#151516",
         "font": {
          "color": "#D9D9D9"
         }
        },
        "paper_bgcolor": "#151516",
        "plot_bgcolor": "#151516",
        "template": {
         "data": {
          "bar": [
           {
            "error_x": {
             "color": "#2a3f5f"
            },
            "error_y": {
             "color": "#2a3f5f"
            },
            "marker": {
             "line": {
              "color": "#E5ECF6",
              "width": 0.5
             }
            },
            "type": "bar"
           }
          ],
          "barpolar": [
           {
            "marker": {
             "line": {
              "color": "#E5ECF6",
              "width": 0.5
             }
            },
            "type": "barpolar"
           }
          ],
          "carpet": [
           {
            "aaxis": {
             "endlinecolor": "#2a3f5f",
             "gridcolor": "white",
             "linecolor": "white",
             "minorgridcolor": "white",
             "startlinecolor": "#2a3f5f"
            },
            "baxis": {
             "endlinecolor": "#2a3f5f",
             "gridcolor": "white",
             "linecolor": "white",
             "minorgridcolor": "white",
             "startlinecolor": "#2a3f5f"
            },
            "type": "carpet"
           }
          ],
          "choropleth": [
           {
            "colorbar": {
             "outlinewidth": 0,
             "ticks": ""
            },
            "type": "choropleth"
           }
          ],
          "contour": [
           {
            "colorbar": {
             "outlinewidth": 0,
             "ticks": ""
            },
            "colorscale": [
             [
              0,
              "#0d0887"
             ],
             [
              0.1111111111111111,
              "#46039f"
             ],
             [
              0.2222222222222222,
              "#7201a8"
             ],
             [
              0.3333333333333333,
              "#9c179e"
             ],
             [
              0.4444444444444444,
              "#bd3786"
             ],
             [
              0.5555555555555556,
              "#d8576b"
             ],
             [
              0.6666666666666666,
              "#ed7953"
             ],
             [
              0.7777777777777778,
              "#fb9f3a"
             ],
             [
              0.8888888888888888,
              "#fdca26"
             ],
             [
              1,
              "#f0f921"
             ]
            ],
            "type": "contour"
           }
          ],
          "contourcarpet": [
           {
            "colorbar": {
             "outlinewidth": 0,
             "ticks": ""
            },
            "type": "contourcarpet"
           }
          ],
          "heatmap": [
           {
            "colorbar": {
             "outlinewidth": 0,
             "ticks": ""
            },
            "colorscale": [
             [
              0,
              "#0d0887"
             ],
             [
              0.1111111111111111,
              "#46039f"
             ],
             [
              0.2222222222222222,
              "#7201a8"
             ],
             [
              0.3333333333333333,
              "#9c179e"
             ],
             [
              0.4444444444444444,
              "#bd3786"
             ],
             [
              0.5555555555555556,
              "#d8576b"
             ],
             [
              0.6666666666666666,
              "#ed7953"
             ],
             [
              0.7777777777777778,
              "#fb9f3a"
             ],
             [
              0.8888888888888888,
              "#fdca26"
             ],
             [
              1,
              "#f0f921"
             ]
            ],
            "type": "heatmap"
           }
          ],
          "heatmapgl": [
           {
            "colorbar": {
             "outlinewidth": 0,
             "ticks": ""
            },
            "colorscale": [
             [
              0,
              "#0d0887"
             ],
             [
              0.1111111111111111,
              "#46039f"
             ],
             [
              0.2222222222222222,
              "#7201a8"
             ],
             [
              0.3333333333333333,
              "#9c179e"
             ],
             [
              0.4444444444444444,
              "#bd3786"
             ],
             [
              0.5555555555555556,
              "#d8576b"
             ],
             [
              0.6666666666666666,
              "#ed7953"
             ],
             [
              0.7777777777777778,
              "#fb9f3a"
             ],
             [
              0.8888888888888888,
              "#fdca26"
             ],
             [
              1,
              "#f0f921"
             ]
            ],
            "type": "heatmapgl"
           }
          ],
          "histogram": [
           {
            "marker": {
             "colorbar": {
              "outlinewidth": 0,
              "ticks": ""
             }
            },
            "type": "histogram"
           }
          ],
          "histogram2d": [
           {
            "colorbar": {
             "outlinewidth": 0,
             "ticks": ""
            },
            "colorscale": [
             [
              0,
              "#0d0887"
             ],
             [
              0.1111111111111111,
              "#46039f"
             ],
             [
              0.2222222222222222,
              "#7201a8"
             ],
             [
              0.3333333333333333,
              "#9c179e"
             ],
             [
              0.4444444444444444,
              "#bd3786"
             ],
             [
              0.5555555555555556,
              "#d8576b"
             ],
             [
              0.6666666666666666,
              "#ed7953"
             ],
             [
              0.7777777777777778,
              "#fb9f3a"
             ],
             [
              0.8888888888888888,
              "#fdca26"
             ],
             [
              1,
              "#f0f921"
             ]
            ],
            "type": "histogram2d"
           }
          ],
          "histogram2dcontour": [
           {
            "colorbar": {
             "outlinewidth": 0,
             "ticks": ""
            },
            "colorscale": [
             [
              0,
              "#0d0887"
             ],
             [
              0.1111111111111111,
              "#46039f"
             ],
             [
              0.2222222222222222,
              "#7201a8"
             ],
             [
              0.3333333333333333,
              "#9c179e"
             ],
             [
              0.4444444444444444,
              "#bd3786"
             ],
             [
              0.5555555555555556,
              "#d8576b"
             ],
             [
              0.6666666666666666,
              "#ed7953"
             ],
             [
              0.7777777777777778,
              "#fb9f3a"
             ],
             [
              0.8888888888888888,
              "#fdca26"
             ],
             [
              1,
              "#f0f921"
             ]
            ],
            "type": "histogram2dcontour"
           }
          ],
          "mesh3d": [
           {
            "colorbar": {
             "outlinewidth": 0,
             "ticks": ""
            },
            "type": "mesh3d"
           }
          ],
          "parcoords": [
           {
            "line": {
             "colorbar": {
              "outlinewidth": 0,
              "ticks": ""
             }
            },
            "type": "parcoords"
           }
          ],
          "pie": [
           {
            "automargin": true,
            "type": "pie"
           }
          ],
          "scatter": [
           {
            "marker": {
             "colorbar": {
              "outlinewidth": 0,
              "ticks": ""
             }
            },
            "type": "scatter"
           }
          ],
          "scatter3d": [
           {
            "line": {
             "colorbar": {
              "outlinewidth": 0,
              "ticks": ""
             }
            },
            "marker": {
             "colorbar": {
              "outlinewidth": 0,
              "ticks": ""
             }
            },
            "type": "scatter3d"
           }
          ],
          "scattercarpet": [
           {
            "marker": {
             "colorbar": {
              "outlinewidth": 0,
              "ticks": ""
             }
            },
            "type": "scattercarpet"
           }
          ],
          "scattergeo": [
           {
            "marker": {
             "colorbar": {
              "outlinewidth": 0,
              "ticks": ""
             }
            },
            "type": "scattergeo"
           }
          ],
          "scattergl": [
           {
            "marker": {
             "colorbar": {
              "outlinewidth": 0,
              "ticks": ""
             }
            },
            "type": "scattergl"
           }
          ],
          "scattermapbox": [
           {
            "marker": {
             "colorbar": {
              "outlinewidth": 0,
              "ticks": ""
             }
            },
            "type": "scattermapbox"
           }
          ],
          "scatterpolar": [
           {
            "marker": {
             "colorbar": {
              "outlinewidth": 0,
              "ticks": ""
             }
            },
            "type": "scatterpolar"
           }
          ],
          "scatterpolargl": [
           {
            "marker": {
             "colorbar": {
              "outlinewidth": 0,
              "ticks": ""
             }
            },
            "type": "scatterpolargl"
           }
          ],
          "scatterternary": [
           {
            "marker": {
             "colorbar": {
              "outlinewidth": 0,
              "ticks": ""
             }
            },
            "type": "scatterternary"
           }
          ],
          "surface": [
           {
            "colorbar": {
             "outlinewidth": 0,
             "ticks": ""
            },
            "colorscale": [
             [
              0,
              "#0d0887"
             ],
             [
              0.1111111111111111,
              "#46039f"
             ],
             [
              0.2222222222222222,
              "#7201a8"
             ],
             [
              0.3333333333333333,
              "#9c179e"
             ],
             [
              0.4444444444444444,
              "#bd3786"
             ],
             [
              0.5555555555555556,
              "#d8576b"
             ],
             [
              0.6666666666666666,
              "#ed7953"
             ],
             [
              0.7777777777777778,
              "#fb9f3a"
             ],
             [
              0.8888888888888888,
              "#fdca26"
             ],
             [
              1,
              "#f0f921"
             ]
            ],
            "type": "surface"
           }
          ],
          "table": [
           {
            "cells": {
             "fill": {
              "color": "#EBF0F8"
             },
             "line": {
              "color": "white"
             }
            },
            "header": {
             "fill": {
              "color": "#C8D4E3"
             },
             "line": {
              "color": "white"
             }
            },
            "type": "table"
           }
          ]
         },
         "layout": {
          "annotationdefaults": {
           "arrowcolor": "#2a3f5f",
           "arrowhead": 0,
           "arrowwidth": 1
          },
          "autotypenumbers": "strict",
          "coloraxis": {
           "colorbar": {
            "outlinewidth": 0,
            "ticks": ""
           }
          },
          "colorscale": {
           "diverging": [
            [
             0,
             "#8e0152"
            ],
            [
             0.1,
             "#c51b7d"
            ],
            [
             0.2,
             "#de77ae"
            ],
            [
             0.3,
             "#f1b6da"
            ],
            [
             0.4,
             "#fde0ef"
            ],
            [
             0.5,
             "#f7f7f7"
            ],
            [
             0.6,
             "#e6f5d0"
            ],
            [
             0.7,
             "#b8e186"
            ],
            [
             0.8,
             "#7fbc41"
            ],
            [
             0.9,
             "#4d9221"
            ],
            [
             1,
             "#276419"
            ]
           ],
           "sequential": [
            [
             0,
             "#0d0887"
            ],
            [
             0.1111111111111111,
             "#46039f"
            ],
            [
             0.2222222222222222,
             "#7201a8"
            ],
            [
             0.3333333333333333,
             "#9c179e"
            ],
            [
             0.4444444444444444,
             "#bd3786"
            ],
            [
             0.5555555555555556,
             "#d8576b"
            ],
            [
             0.6666666666666666,
             "#ed7953"
            ],
            [
             0.7777777777777778,
             "#fb9f3a"
            ],
            [
             0.8888888888888888,
             "#fdca26"
            ],
            [
             1,
             "#f0f921"
            ]
           ],
           "sequentialminus": [
            [
             0,
             "#0d0887"
            ],
            [
             0.1111111111111111,
             "#46039f"
            ],
            [
             0.2222222222222222,
             "#7201a8"
            ],
            [
             0.3333333333333333,
             "#9c179e"
            ],
            [
             0.4444444444444444,
             "#bd3786"
            ],
            [
             0.5555555555555556,
             "#d8576b"
            ],
            [
             0.6666666666666666,
             "#ed7953"
            ],
            [
             0.7777777777777778,
             "#fb9f3a"
            ],
            [
             0.8888888888888888,
             "#fdca26"
            ],
            [
             1,
             "#f0f921"
            ]
           ]
          },
          "colorway": [
           "#636efa",
           "#EF553B",
           "#00cc96",
           "#ab63fa",
           "#FFA15A",
           "#19d3f3",
           "#FF6692",
           "#B6E880",
           "#FF97FF",
           "#FECB52"
          ],
          "font": {
           "color": "#2a3f5f"
          },
          "geo": {
           "bgcolor": "white",
           "lakecolor": "white",
           "landcolor": "#E5ECF6",
           "showlakes": true,
           "showland": true,
           "subunitcolor": "white"
          },
          "hoverlabel": {
           "align": "left"
          },
          "hovermode": "closest",
          "mapbox": {
           "style": "light"
          },
          "paper_bgcolor": "white",
          "plot_bgcolor": "#E5ECF6",
          "polar": {
           "angularaxis": {
            "gridcolor": "white",
            "linecolor": "white",
            "ticks": ""
           },
           "bgcolor": "#E5ECF6",
           "radialaxis": {
            "gridcolor": "white",
            "linecolor": "white",
            "ticks": ""
           }
          },
          "scene": {
           "xaxis": {
            "backgroundcolor": "#E5ECF6",
            "gridcolor": "white",
            "gridwidth": 2,
            "linecolor": "white",
            "showbackground": true,
            "ticks": "",
            "zerolinecolor": "white"
           },
           "yaxis": {
            "backgroundcolor": "#E5ECF6",
            "gridcolor": "white",
            "gridwidth": 2,
            "linecolor": "white",
            "showbackground": true,
            "ticks": "",
            "zerolinecolor": "white"
           },
           "zaxis": {
            "backgroundcolor": "#E5ECF6",
            "gridcolor": "white",
            "gridwidth": 2,
            "linecolor": "white",
            "showbackground": true,
            "ticks": "",
            "zerolinecolor": "white"
           }
          },
          "shapedefaults": {
           "line": {
            "color": "#2a3f5f"
           }
          },
          "ternary": {
           "aaxis": {
            "gridcolor": "white",
            "linecolor": "white",
            "ticks": ""
           },
           "baxis": {
            "gridcolor": "white",
            "linecolor": "white",
            "ticks": ""
           },
           "bgcolor": "#E5ECF6",
           "caxis": {
            "gridcolor": "white",
            "linecolor": "white",
            "ticks": ""
           }
          },
          "title": {
           "x": 0.05
          },
          "xaxis": {
           "automargin": true,
           "gridcolor": "white",
           "linecolor": "white",
           "ticks": "",
           "title": {
            "standoff": 15
           },
           "zerolinecolor": "white",
           "zerolinewidth": 2
          },
          "yaxis": {
           "automargin": true,
           "gridcolor": "white",
           "linecolor": "white",
           "ticks": "",
           "title": {
            "standoff": 15
           },
           "zerolinecolor": "white",
           "zerolinewidth": 2
          }
         }
        },
        "title": {
         "font": {
          "color": "#D9D9D9"
         },
         "text": "KO.N's Wilder RSI14"
        },
        "xaxis": {
         "autorange": true,
         "gridcolor": "#434343",
         "range": [
          "2020-01-22",
          "2021-07-29"
         ],
         "showgrid": true,
         "tickfont": {
          "color": "#C2C2C2"
         },
         "title": {
          "font": {
           "color": "#D9D9D9"
          },
          "text": ""
         },
         "type": "date",
         "zerolinecolor": "#666570"
        },
        "yaxis": {
         "autorange": true,
         "gridcolor": "#434343",
         "range": [
          19.4505904967112,
          84.24403924988573
         ],
         "showgrid": true,
         "tickfont": {
          "color": "#C2C2C2"
         },
         "title": {
          "font": {
           "color": "#D9D9D9"
          },
          "text": ""
         },
         "type": "linear",
         "zerolinecolor": "#666570"
        }
       }
      },
      "image/png": "[encoded data removed]",
      "text/html": [
       "<div>                            <div id=\"1db51775-fd56-4b9b-b3c2-b6f037d7c352\" class=\"plotly-graph-div\" style=\"height:525px; width:100%;\"></div>            <script type=\"text/javascript\">                require([\"plotly\"], function(Plotly) {                    window.PLOTLYENV=window.PLOTLYENV || {};\n",
       "                    window.PLOTLYENV.BASE_URL='https://chart-studio.plotly.com';                                    if (document.getElementById(\"1db51775-fd56-4b9b-b3c2-b6f037d7c352\")) {                    Plotly.newPlot(                        \"1db51775-fd56-4b9b-b3c2-b6f037d7c352\",                        [{\"line\": {\"color\": \"rgba(0, 30, 255, 1.0)\", \"dash\": \"solid\", \"shape\": \"linear\", \"width\": 1.3}, \"mode\": \"lines\", \"name\": \"KO.N's RSI14\", \"text\": \"\", \"type\": \"scatter\", \"x\": [\"2020-01-22\", \"2020-01-23\", \"2020-01-24\", \"2020-01-27\", \"2020-01-28\", \"2020-01-29\", \"2020-01-30\", \"2020-01-31\", \"2020-02-03\", \"2020-02-04\", \"2020-02-05\", \"2020-02-06\", \"2020-02-07\", \"2020-02-10\", \"2020-02-11\", \"2020-02-12\", \"2020-02-13\", \"2020-02-14\", \"2020-02-18\", \"2020-02-19\", \"2020-02-20\", \"2020-02-21\", \"2020-02-24\", \"2020-02-25\", \"2020-02-26\", \"2020-02-27\", \"2020-02-28\", \"2020-03-02\", \"2020-03-03\", \"2020-03-04\", \"2020-03-05\", \"2020-03-06\", \"2020-03-09\", \"2020-03-10\", \"2020-03-11\", \"2020-03-12\", \"2020-03-13\", \"2020-03-16\", \"2020-03-17\", \"2020-03-18\", \"2020-03-19\", \"2020-03-20\", \"2020-03-23\", \"2020-03-24\", \"2020-03-25\", \"2020-03-26\", \"2020-03-27\", \"2020-03-30\", \"2020-03-31\", \"2020-04-01\", \"2020-04-02\", \"2020-04-03\", \"2020-04-06\", \"2020-04-07\", \"2020-04-08\", \"2020-04-09\", \"2020-04-13\", \"2020-04-14\", \"2020-04-15\", \"2020-04-16\", \"2020-04-17\", \"2020-04-20\", \"2020-04-21\", \"2020-04-22\", \"2020-04-23\", \"2020-04-24\", \"2020-04-27\", \"2020-04-28\", \"2020-04-29\", \"2020-04-30\", \"2020-05-01\", \"2020-05-04\", \"2020-05-05\", \"2020-05-06\", \"2020-05-07\", \"2020-05-08\", \"2020-05-11\", \"2020-05-12\", \"2020-05-13\", \"2020-05-14\", \"2020-05-15\", \"2020-05-18\", \"2020-05-19\", \"2020-05-20\", \"2020-05-21\", \"2020-05-22\", \"2020-05-26\", \"2020-05-27\", \"2020-05-28\", \"2020-05-29\", \"2020-06-01\", \"2020-06-02\", \"2020-06-03\", \"2020-06-04\", \"2020-06-05\", \"2020-06-08\", \"2020-06-09\", \"2020-06-10\", \"2020-06-11\", \"2020-06-12\", \"2020-06-15\", \"2020-06-16\", \"2020-06-17\", \"2020-06-18\", \"2020-06-19\", \"2020-06-22\", \"2020-06-23\", \"2020-06-24\", \"2020-06-25\", \"2020-06-26\", \"2020-06-29\", \"2020-06-30\", \"2020-07-01\", \"2020-07-02\", \"2020-07-06\", \"2020-07-07\", \"2020-07-08\", \"2020-07-09\", \"2020-07-10\", \"2020-07-13\", \"2020-07-14\", \"2020-07-15\", \"2020-07-16\", \"2020-07-17\", \"2020-07-20\", \"2020-07-21\", \"2020-07-22\", \"2020-07-23\", \"2020-07-24\", \"2020-07-27\", \"2020-07-28\", \"2020-07-29\", \"2020-07-30\", \"2020-07-31\", \"2020-08-03\", \"2020-08-04\", \"2020-08-05\", \"2020-08-06\", \"2020-08-07\", \"2020-08-10\", \"2020-08-11\", \"2020-08-12\", \"2020-08-13\", \"2020-08-14\", \"2020-08-17\", \"2020-08-18\", \"2020-08-19\", \"2020-08-20\", \"2020-08-21\", \"2020-08-24\", \"2020-08-25\", \"2020-08-26\", \"2020-08-27\", \"2020-08-28\", \"2020-08-31\", \"2020-09-01\", \"2020-09-02\", \"2020-09-03\", \"2020-09-04\", \"2020-09-08\", \"2020-09-09\", \"2020-09-10\", \"2020-09-11\", \"2020-09-14\", \"2020-09-15\", \"2020-09-16\", \"2020-09-17\", \"2020-09-18\", \"2020-09-21\", \"2020-09-22\", \"2020-09-23\", \"2020-09-24\", \"2020-09-25\", \"2020-09-28\", \"2020-09-29\", \"2020-09-30\", \"2020-10-01\", \"2020-10-02\", \"2020-10-05\", \"2020-10-06\", \"2020-10-07\", \"2020-10-08\", \"2020-10-09\", \"2020-10-12\", \"2020-10-13\", \"2020-10-14\", \"2020-10-15\", \"2020-10-16\", \"2020-10-19\", \"2020-10-20\", \"2020-10-21\", \"2020-10-22\", \"2020-10-23\", \"2020-10-26\", \"2020-10-27\", \"2020-10-28\", \"2020-10-29\", \"2020-10-30\", \"2020-11-02\", \"2020-11-03\", \"2020-11-04\", \"2020-11-05\", \"2020-11-06\", \"2020-11-09\", \"2020-11-10\", \"2020-11-11\", \"2020-11-12\", \"2020-11-13\", \"2020-11-16\", \"2020-11-17\", \"2020-11-18\", \"2020-11-19\", \"2020-11-20\", \"2020-11-23\", \"2020-11-24\", \"2020-11-25\", \"2020-11-27\", \"2020-11-30\", \"2020-12-01\", \"2020-12-02\", \"2020-12-03\", \"2020-12-04\", \"2020-12-07\", \"2020-12-08\", \"2020-12-09\", \"2020-12-10\", \"2020-12-11\", \"2020-12-14\", \"2020-12-15\", \"2020-12-16\", \"2020-12-17\", \"2020-12-18\", \"2020-12-21\", \"2020-12-22\", \"2020-12-23\", \"2020-12-24\", \"2020-12-28\", \"2020-12-29\", \"2020-12-30\", \"2020-12-31\", \"2021-01-04\", \"2021-01-05\", \"2021-01-06\", \"2021-01-07\", \"2021-01-08\", \"2021-01-11\", \"2021-01-12\", \"2021-01-13\", \"2021-01-14\", \"2021-01-15\", \"2021-01-19\", \"2021-01-20\", \"2021-01-21\", \"2021-01-22\", \"2021-01-25\", \"2021-01-26\", \"2021-01-27\", \"2021-01-28\", \"2021-01-29\", \"2021-02-01\", \"2021-02-02\", \"2021-02-03\", \"2021-02-04\", \"2021-02-05\", \"2021-02-08\", \"2021-02-09\", \"2021-02-10\", \"2021-02-11\", \"2021-02-12\", \"2021-02-16\", \"2021-02-17\", \"2021-02-18\", \"2021-02-19\", \"2021-02-22\", \"2021-02-23\", \"2021-02-24\", \"2021-02-25\", \"2021-02-26\", \"2021-03-01\", \"2021-03-02\", \"2021-03-03\", \"2021-03-04\", \"2021-03-05\", \"2021-03-08\", \"2021-03-09\", \"2021-03-10\", \"2021-03-11\", \"2021-03-12\", \"2021-03-15\", \"2021-03-16\", \"2021-03-17\", \"2021-03-18\", \"2021-03-19\", \"2021-03-22\", \"2021-03-23\", \"2021-03-24\", \"2021-03-25\", \"2021-03-26\", \"2021-03-29\", \"2021-03-30\", \"2021-03-31\", \"2021-04-01\", \"2021-04-05\", \"2021-04-06\", \"2021-04-07\", \"2021-04-08\", \"2021-04-09\", \"2021-04-12\", \"2021-04-13\", \"2021-04-14\", \"2021-04-15\", \"2021-04-16\", \"2021-04-19\", \"2021-04-20\", \"2021-04-21\", \"2021-04-22\", \"2021-04-23\", \"2021-04-26\", \"2021-04-27\", \"2021-04-28\", \"2021-04-29\", \"2021-04-30\", \"2021-05-03\", \"2021-05-04\", \"2021-05-05\", \"2021-05-06\", \"2021-05-07\", \"2021-05-10\", \"2021-05-11\", \"2021-05-12\", \"2021-05-13\", \"2021-05-14\", \"2021-05-17\", \"2021-05-18\", \"2021-05-19\", \"2021-05-20\", \"2021-05-21\", \"2021-05-24\", \"2021-05-25\", \"2021-05-26\", \"2021-05-27\", \"2021-05-28\", \"2021-06-01\", \"2021-06-02\", \"2021-06-03\", \"2021-06-04\", \"2021-06-07\", \"2021-06-08\", \"2021-06-09\", \"2021-06-10\", \"2021-06-11\", \"2021-06-14\", \"2021-06-15\", \"2021-06-16\", \"2021-06-17\", \"2021-06-18\", \"2021-06-21\", \"2021-06-22\", \"2021-06-23\", \"2021-06-24\", \"2021-06-25\", \"2021-06-28\", \"2021-06-29\", \"2021-06-30\", \"2021-07-01\", \"2021-07-02\", \"2021-07-06\", \"2021-07-07\", \"2021-07-08\", \"2021-07-09\", \"2021-07-12\", \"2021-07-13\", \"2021-07-14\", \"2021-07-15\", \"2021-07-16\", \"2021-07-19\", \"2021-07-20\", \"2021-07-21\", \"2021-07-22\", \"2021-07-23\", \"2021-07-26\", \"2021-07-27\", \"2021-07-28\", \"2021-07-29\"], \"y\": [81.004366812227, 81.004366812227, 78.2446463335496, 74.59548850711455, 66.72050122621641, 66.72050122621643, 77.54307953166328, 71.331446671539, 72.26760534000931, 73.60820216630431, 73.66094001642557, 74.43126745129636, 75.532190169545, 78.34390055542752, 75.66839028215144, 72.66199583172342, 73.90270266321022, 75.90472049486797, 68.87571937822958, 70.55375575630832, 69.71052996862046, 72.60213516772559, 52.951119206657474, 45.51139519440009, 43.756490891941326, 29.093949886844186, 24.354007131232507, 41.634468083097346, 42.45014852324744, 55.98341482831517, 46.925251040332746, 41.961380396940186, 33.25762038806033, 40.315830281207674, 36.927948522762364, 28.07821504756852, 32.59112521167262, 27.96123218188987, 34.00061259937749, 30.643235629879797, 26.93125529193952, 23.368013544779345, 22.690262934369926, 28.40194608658804, 34.369700313406284, 40.94658809834061, 38.64353226790325, 43.69055303035828, 42.404127342021354, 38.90096280673405, 43.239606381167086, 43.02385985237323, 49.45203286208293, 49.115829277547235, 51.993582097064575, 54.49030370203405, 49.61545830507089, 53.88652977344759, 50.831766031188266, 49.651676675106856, 51.914643937888044, 48.19659980522196, 45.555662332504276, 46.38106898991095, 44.890796038836775, 45.99367297813102, 50.032080450851204, 49.912986430351644, 51.103749189037046, 47.19280103411709, 46.293252580765625, 44.833445585103966, 45.872400522969855, 43.65871224447157, 43.14131870701603, 49.614608995307165, 47.41992616936057, 44.72846270882987, 41.61920810286484, 40.78648268363254, 39.236508441197145, 47.574789449461285, 45.8701936714226, 51.719042591299534, 48.696875722402325, 48.10821182609791, 52.764085055046905, 55.36789154969697, 56.81009275926403, 54.64443209703769, 56.00990269359731, 55.487610820910696, 59.95578790264974, 60.04217839594083, 64.82322300496014, 67.54016123288694, 61.79179357812755, 59.359467508342675, 44.17968857795037, 44.477560254020545, 47.96618378424776, 50.227491153311085, 49.29484721772637, 51.39231019902567, 46.492312070952735, 45.15397729149229, 44.65952502522523, 39.990703392764246, 41.84255433295761, 36.0271149210118, 41.1442416518451, 43.12865131683595, 44.017962624172085, 44.41910057829384, 46.813243323033134, 46.68948051718946, 45.77714858337757, 38.98048585463822, 47.88758981028367, 48.53997006563604, 52.50953106093821, 55.65838702575122, 53.844797867130566, 57.8122703748006, 52.713953992575846, 58.7571396167885, 64.54114329025134, 63.05318244607729, 63.991887566842045, 63.90861978839841, 61.33032106503074, 59.94137960780025, 57.07060044595523, 53.320438518172416, 46.45359802608268, 49.36711376163423, 53.10168110638593, 54.86059899027503, 56.99824497666868, 56.280675453468454, 57.78313394658378, 61.20193984439853, 60.672803974094265, 61.17884207808374, 58.40404609537952, 60.10894285814455, 49.24138532232209, 49.05944002925178, 48.38556539327666, 54.95382325132225, 54.30665247809157, 56.6000716443356, 57.24712266290083, 68.72484297086574, 65.1908715622958, 60.60418389104813, 71.50487656039712, 64.87432671621029, 67.4389667776519, 57.50721477987012, 59.492023574473585, 58.0324399054248, 63.4238805555453, 60.65316807846115, 62.37280230755511, 60.205875215399836, 58.19601941299993, 57.3371335683858, 47.14622931945937, 51.07141353215859, 42.437434021516964, 45.77366527992113, 45.911462304823516, 49.761038818004536, 47.42431215839837, 50.55022924392212, 49.21960215514831, 50.54767987385321, 50.70195618706985, 47.2123564055077, 52.204235046160505, 58.359949841019464, 60.491007715442095, 62.15946811350937, 54.463373577759626, 53.6412680457249, 52.53115297069032, 52.854456860858164, 49.15863831612486, 54.431377642117106, 52.03301104120604, 57.39786639959803, 55.83830190981474, 49.34126854588361, 50.20782366146578, 36.9888189397314, 37.53657520949075, 37.92399953832631, 43.232519284310136, 49.317100323669, 47.95228254368941, 50.179492834692574, 50.2643811630677, 68.37172161817409, 73.13236623989438, 69.917225713567, 65.49826940961412, 67.22053409682339, 68.74785684622063, 67.31237574258556, 58.966646595358945, 61.467027258600005, 58.094589231597745, 58.14834700043382, 61.05380505454385, 58.69708785872675, 56.82365379644052, 48.8012846158771, 51.736480893127016, 52.205923179966206, 56.56107899924676, 62.446455058663545, 55.891897249842366, 56.966582476707124, 57.839928961890735, 55.57270846655444, 57.49514687452742, 56.7894412028527, 60.50875481584512, 53.69744034512295, 55.16089420441759, 58.33491354137736, 50.68889689403811, 50.30712154000365, 52.759428596720724, 55.42453053718394, 60.25407304148393, 59.962556201913685, 62.008031130030396, 64.5263822503185, 47.05819693658316, 43.520250884926355, 35.332646198935564, 33.07220482934757, 41.177605054263374, 37.35015375965496, 36.97165712151626, 37.351490002019794, 33.328325506959416, 31.261752360555533, 30.5308841317878, 32.061346666615364, 34.52842667805395, 32.3716280757055, 35.12299459867127, 39.76420269429687, 35.66913637532279, 41.00659932055708, 35.841333831857895, 38.590330886508625, 42.4527175482882, 41.344229683741375, 43.35619365845284, 48.435598775563825, 50.45413394487158, 48.778577462214955, 47.99829803378504, 53.59426802793357, 56.408810396441844, 52.701742783780496, 51.48710860307906, 56.43065049626578, 50.69366923893571, 54.609114203959166, 53.81261312190701, 55.143489804526844, 50.195708093317975, 41.44469784922861, 48.85057392491486, 50.33724306302716, 49.40930657220186, 49.0844912182432, 55.742685543151495, 61.205993658327756, 54.55119028088392, 58.19138897252243, 53.717710320214586, 49.88278628647458, 54.399901764112364, 55.621450667902636, 55.7558083253543, 50.265590211802184, 52.08565222298274, 53.535354714506035, 56.44818544796353, 57.40669704145969, 60.96510297198192, 67.01850312201736, 70.88040477150642, 63.91521713795418, 59.92881040122601, 58.153337744455186, 60.06456652463243, 62.40668825840767, 62.9607483394036, 61.23294782470601, 61.6578762978795, 62.898739963244374, 59.71567599284449, 59.59076699268649, 61.74512022453093, 64.5912798504857, 67.00811049343605, 68.24802120413783, 71.25878562352389, 68.55407873978477, 68.77928561380581, 56.925148652724765, 55.90040117923261, 56.00700944159103, 62.540915308359814, 58.62240552599036, 63.07189680077729, 58.46769166820849, 56.63439462796559, 61.63174036786069, 61.20972661750425, 64.68220223877248, 56.629594882274276, 53.241960973024376, 57.80485147102436, 59.78319118917199, 58.57331026045141, 54.606245559015655, 52.438865121810764, 57.560831223196686, 57.14660307091804, 59.05072479423206, 58.89416008888456, 61.530384647125985, 66.02753317678146, 62.600980816328416, 62.4265367385008, 64.75354487375333, 66.1886040632564, 71.53720101999733, 67.69318533868778, 60.82908269938338, 58.0651748803781, 62.68381138927578, 65.09111652839596, 55.65649977305501, 53.731569713769034, 44.8932708970897, 48.35489056282907, 37.627602897779404, 44.283245880084614, 46.37229874999144, 42.589017653177244, 45.52595948999365, 44.88486906628055, 44.308913242400166, 40.571243264498975, 43.76416102975374, 42.29582804807308, 45.199874792194926, 42.08922862771989, 47.766959387461355, 45.6840716814293, 49.780066644207466, 50.02603360049411, 56.25577236299855, 66.5634365030732, 67.75135456855456, 67.18016784346193, 58.31228977477955, 59.178410479369255, 64.84222408842145, 63.78329191153885, 67.62645612713625, 67.96542503440551, 69.34795255068812, 61.87137846719573, 64.33967497312773]}],                        {\"legend\": {\"bgcolor\": \"#151516\", \"font\": {\"color\": \"#D9D9D9\"}}, \"paper_bgcolor\": \"#151516\", \"plot_bgcolor\": \"#151516\", \"template\": {\"data\": {\"bar\": [{\"error_x\": {\"color\": \"#2a3f5f\"}, \"error_y\": {\"color\": \"#2a3f5f\"}, \"marker\": {\"line\": {\"color\": \"#E5ECF6\", \"width\": 0.5}}, \"type\": \"bar\"}], \"barpolar\": [{\"marker\": {\"line\": {\"color\": \"#E5ECF6\", \"width\": 0.5}}, \"type\": \"barpolar\"}], \"carpet\": [{\"aaxis\": {\"endlinecolor\": \"#2a3f5f\", \"gridcolor\": \"white\", \"linecolor\": \"white\", \"minorgridcolor\": \"white\", \"startlinecolor\": \"#2a3f5f\"}, \"baxis\": {\"endlinecolor\": \"#2a3f5f\", \"gridcolor\": \"white\", \"linecolor\": \"white\", \"minorgridcolor\": \"white\", \"startlinecolor\": \"#2a3f5f\"}, \"type\": \"carpet\"}], \"choropleth\": [{\"colorbar\": {\"outlinewidth\": 0, \"ticks\": \"\"}, \"type\": \"choropleth\"}], \"contour\": [{\"colorbar\": {\"outlinewidth\": 0, \"ticks\": \"\"}, \"colorscale\": [[0.0, \"#0d0887\"], [0.1111111111111111, \"#46039f\"], [0.2222222222222222, \"#7201a8\"], [0.3333333333333333, \"#9c179e\"], [0.4444444444444444, \"#bd3786\"], [0.5555555555555556, \"#d8576b\"], [0.6666666666666666, \"#ed7953\"], [0.7777777777777778, \"#fb9f3a\"], [0.8888888888888888, \"#fdca26\"], [1.0, \"#f0f921\"]], \"type\": \"contour\"}], \"contourcarpet\": [{\"colorbar\": {\"outlinewidth\": 0, \"ticks\": \"\"}, \"type\": \"contourcarpet\"}], \"heatmap\": [{\"colorbar\": {\"outlinewidth\": 0, \"ticks\": \"\"}, \"colorscale\": [[0.0, \"#0d0887\"], [0.1111111111111111, \"#46039f\"], [0.2222222222222222, \"#7201a8\"], [0.3333333333333333, \"#9c179e\"], [0.4444444444444444, \"#bd3786\"], [0.5555555555555556, \"#d8576b\"], [0.6666666666666666, \"#ed7953\"], [0.7777777777777778, \"#fb9f3a\"], [0.8888888888888888, \"#fdca26\"], [1.0, \"#f0f921\"]], \"type\": \"heatmap\"}], \"heatmapgl\": [{\"colorbar\": {\"outlinewidth\": 0, \"ticks\": \"\"}, \"colorscale\": [[0.0, \"#0d0887\"], [0.1111111111111111, \"#46039f\"], [0.2222222222222222, \"#7201a8\"], [0.3333333333333333, \"#9c179e\"], [0.4444444444444444, \"#bd3786\"], [0.5555555555555556, \"#d8576b\"], [0.6666666666666666, \"#ed7953\"], [0.7777777777777778, \"#fb9f3a\"], [0.8888888888888888, \"#fdca26\"], [1.0, \"#f0f921\"]], \"type\": \"heatmapgl\"}], \"histogram\": [{\"marker\": {\"colorbar\": {\"outlinewidth\": 0, \"ticks\": \"\"}}, \"type\": \"histogram\"}], \"histogram2d\": [{\"colorbar\": {\"outlinewidth\": 0, \"ticks\": \"\"}, \"colorscale\": [[0.0, \"#0d0887\"], [0.1111111111111111, \"#46039f\"], [0.2222222222222222, \"#7201a8\"], [0.3333333333333333, \"#9c179e\"], [0.4444444444444444, \"#bd3786\"], [0.5555555555555556, \"#d8576b\"], [0.6666666666666666, \"#ed7953\"], [0.7777777777777778, \"#fb9f3a\"], [0.8888888888888888, \"#fdca26\"], [1.0, \"#f0f921\"]], \"type\": \"histogram2d\"}], \"histogram2dcontour\": [{\"colorbar\": {\"outlinewidth\": 0, \"ticks\": \"\"}, \"colorscale\": [[0.0, \"#0d0887\"], [0.1111111111111111, \"#46039f\"], [0.2222222222222222, \"#7201a8\"], [0.3333333333333333, \"#9c179e\"], [0.4444444444444444, \"#bd3786\"], [0.5555555555555556, \"#d8576b\"], [0.6666666666666666, \"#ed7953\"], [0.7777777777777778, \"#fb9f3a\"], [0.8888888888888888, \"#fdca26\"], [1.0, \"#f0f921\"]], \"type\": \"histogram2dcontour\"}], \"mesh3d\": [{\"colorbar\": {\"outlinewidth\": 0, \"ticks\": \"\"}, \"type\": \"mesh3d\"}], \"parcoords\": [{\"line\": {\"colorbar\": {\"outlinewidth\": 0, \"ticks\": \"\"}}, \"type\": \"parcoords\"}], \"pie\": [{\"automargin\": true, \"type\": \"pie\"}], \"scatter\": [{\"marker\": {\"colorbar\": {\"outlinewidth\": 0, \"ticks\": \"\"}}, \"type\": \"scatter\"}], \"scatter3d\": [{\"line\": {\"colorbar\": {\"outlinewidth\": 0, \"ticks\": \"\"}}, \"marker\": {\"colorbar\": {\"outlinewidth\": 0, \"ticks\": \"\"}}, \"type\": \"scatter3d\"}], \"scattercarpet\": [{\"marker\": {\"colorbar\": {\"outlinewidth\": 0, \"ticks\": \"\"}}, \"type\": \"scattercarpet\"}], \"scattergeo\": [{\"marker\": {\"colorbar\": {\"outlinewidth\": 0, \"ticks\": \"\"}}, \"type\": \"scattergeo\"}], \"scattergl\": [{\"marker\": {\"colorbar\": {\"outlinewidth\": 0, \"ticks\": \"\"}}, \"type\": \"scattergl\"}], \"scattermapbox\": [{\"marker\": {\"colorbar\": {\"outlinewidth\": 0, \"ticks\": \"\"}}, \"type\": \"scattermapbox\"}], \"scatterpolar\": [{\"marker\": {\"colorbar\": {\"outlinewidth\": 0, \"ticks\": \"\"}}, \"type\": \"scatterpolar\"}], \"scatterpolargl\": [{\"marker\": {\"colorbar\": {\"outlinewidth\": 0, \"ticks\": \"\"}}, \"type\": \"scatterpolargl\"}], \"scatterternary\": [{\"marker\": {\"colorbar\": {\"outlinewidth\": 0, \"ticks\": \"\"}}, \"type\": \"scatterternary\"}], \"surface\": [{\"colorbar\": {\"outlinewidth\": 0, \"ticks\": \"\"}, \"colorscale\": [[0.0, \"#0d0887\"], [0.1111111111111111, \"#46039f\"], [0.2222222222222222, \"#7201a8\"], [0.3333333333333333, \"#9c179e\"], [0.4444444444444444, \"#bd3786\"], [0.5555555555555556, \"#d8576b\"], [0.6666666666666666, \"#ed7953\"], [0.7777777777777778, \"#fb9f3a\"], [0.8888888888888888, \"#fdca26\"], [1.0, \"#f0f921\"]], \"type\": \"surface\"}], \"table\": [{\"cells\": {\"fill\": {\"color\": \"#EBF0F8\"}, \"line\": {\"color\": \"white\"}}, \"header\": {\"fill\": {\"color\": \"#C8D4E3\"}, \"line\": {\"color\": \"white\"}}, \"type\": \"table\"}]}, \"layout\": {\"annotationdefaults\": {\"arrowcolor\": \"#2a3f5f\", \"arrowhead\": 0, \"arrowwidth\": 1}, \"autotypenumbers\": \"strict\", \"coloraxis\": {\"colorbar\": {\"outlinewidth\": 0, \"ticks\": \"\"}}, \"colorscale\": {\"diverging\": [[0, \"#8e0152\"], [0.1, \"#c51b7d\"], [0.2, \"#de77ae\"], [0.3, \"#f1b6da\"], [0.4, \"#fde0ef\"], [0.5, \"#f7f7f7\"], [0.6, \"#e6f5d0\"], [0.7, \"#b8e186\"], [0.8, \"#7fbc41\"], [0.9, \"#4d9221\"], [1, \"#276419\"]], \"sequential\": [[0.0, \"#0d0887\"], [0.1111111111111111, \"#46039f\"], [0.2222222222222222, \"#7201a8\"], [0.3333333333333333, \"#9c179e\"], [0.4444444444444444, \"#bd3786\"], [0.5555555555555556, \"#d8576b\"], [0.6666666666666666, \"#ed7953\"], [0.7777777777777778, \"#fb9f3a\"], [0.8888888888888888, \"#fdca26\"], [1.0, \"#f0f921\"]], \"sequentialminus\": [[0.0, \"#0d0887\"], [0.1111111111111111, \"#46039f\"], [0.2222222222222222, \"#7201a8\"], [0.3333333333333333, \"#9c179e\"], [0.4444444444444444, \"#bd3786\"], [0.5555555555555556, \"#d8576b\"], [0.6666666666666666, \"#ed7953\"], [0.7777777777777778, \"#fb9f3a\"], [0.8888888888888888, \"#fdca26\"], [1.0, \"#f0f921\"]]}, \"colorway\": [\"#636efa\", \"#EF553B\", \"#00cc96\", \"#ab63fa\", \"#FFA15A\", \"#19d3f3\", \"#FF6692\", \"#B6E880\", \"#FF97FF\", \"#FECB52\"], \"font\": {\"color\": \"#2a3f5f\"}, \"geo\": {\"bgcolor\": \"white\", \"lakecolor\": \"white\", \"landcolor\": \"#E5ECF6\", \"showlakes\": true, \"showland\": true, \"subunitcolor\": \"white\"}, \"hoverlabel\": {\"align\": \"left\"}, \"hovermode\": \"closest\", \"mapbox\": {\"style\": \"light\"}, \"paper_bgcolor\": \"white\", \"plot_bgcolor\": \"#E5ECF6\", \"polar\": {\"angularaxis\": {\"gridcolor\": \"white\", \"linecolor\": \"white\", \"ticks\": \"\"}, \"bgcolor\": \"#E5ECF6\", \"radialaxis\": {\"gridcolor\": \"white\", \"linecolor\": \"white\", \"ticks\": \"\"}}, \"scene\": {\"xaxis\": {\"backgroundcolor\": \"#E5ECF6\", \"gridcolor\": \"white\", \"gridwidth\": 2, \"linecolor\": \"white\", \"showbackground\": true, \"ticks\": \"\", \"zerolinecolor\": \"white\"}, \"yaxis\": {\"backgroundcolor\": \"#E5ECF6\", \"gridcolor\": \"white\", \"gridwidth\": 2, \"linecolor\": \"white\", \"showbackground\": true, \"ticks\": \"\", \"zerolinecolor\": \"white\"}, \"zaxis\": {\"backgroundcolor\": \"#E5ECF6\", \"gridcolor\": \"white\", \"gridwidth\": 2, \"linecolor\": \"white\", \"showbackground\": true, \"ticks\": \"\", \"zerolinecolor\": \"white\"}}, \"shapedefaults\": {\"line\": {\"color\": \"#2a3f5f\"}}, \"ternary\": {\"aaxis\": {\"gridcolor\": \"white\", \"linecolor\": \"white\", \"ticks\": \"\"}, \"baxis\": {\"gridcolor\": \"white\", \"linecolor\": \"white\", \"ticks\": \"\"}, \"bgcolor\": \"#E5ECF6\", \"caxis\": {\"gridcolor\": \"white\", \"linecolor\": \"white\", \"ticks\": \"\"}}, \"title\": {\"x\": 0.05}, \"xaxis\": {\"automargin\": true, \"gridcolor\": \"white\", \"linecolor\": \"white\", \"ticks\": \"\", \"title\": {\"standoff\": 15}, \"zerolinecolor\": \"white\", \"zerolinewidth\": 2}, \"yaxis\": {\"automargin\": true, \"gridcolor\": \"white\", \"linecolor\": \"white\", \"ticks\": \"\", \"title\": {\"standoff\": 15}, \"zerolinecolor\": \"white\", \"zerolinewidth\": 2}}}, \"title\": {\"font\": {\"color\": \"#D9D9D9\"}, \"text\": \"KO.N's Wilder RSI14\"}, \"xaxis\": {\"gridcolor\": \"#434343\", \"showgrid\": true, \"tickfont\": {\"color\": \"#C2C2C2\"}, \"title\": {\"font\": {\"color\": \"#D9D9D9\"}, \"text\": \"\"}, \"zerolinecolor\": \"#666570\"}, \"yaxis\": {\"gridcolor\": \"#434343\", \"showgrid\": true, \"tickfont\": {\"color\": \"#C2C2C2\"}, \"title\": {\"font\": {\"color\": \"#D9D9D9\"}, \"text\": \"\"}, \"zerolinecolor\": \"#666570\"}},                        {\"showLink\": true, \"linkText\": \"Export to chart-studio.plotly.com\", \"plotlyServerURL\": \"https://chart-studio.plotly.com\", \"responsive\": true}                    ).then(function(){\n",
       "                            \n",
       "var gd = document.getElementById('1db51775-fd56-4b9b-b3c2-b6f037d7c352');\n",
       "var x = new MutationObserver(function (mutations, observer) {{\n",
       "        var display = window.getComputedStyle(gd).display;\n",
       "        if (!display || display === 'none') {{\n",
       "            console.log([gd, 'removed!']);\n",
       "            Plotly.purge(gd);\n",
       "            observer.disconnect();\n",
       "        }}\n",
       "}});\n",
       "\n",
       "// Listen for the removal of the full notebook cells\n",
       "var notebookContainer = gd.closest('#notebook-container');\n",
       "if (notebookContainer) {{\n",
       "    x.observe(notebookContainer, {childList: true});\n",
       "}}\n",
       "\n",
       "// Listen for the clearing of the current output cell\n",
       "var outputEl = gd.closest('.output');\n",
       "if (outputEl) {{\n",
       "    x.observe(outputEl, {childList: true});\n",
       "}}\n",
       "\n",
       "                        })                };                });            </script>        </div>"
      ]
     },
     "metadata": {},
     "output_type": "display_data"
    }
   ],
   "source": [
    "df2[\"KO.N's RSI14\"].dropna().iplot(title=\"KO.N's Wilder RSI14\",\n",
    "                                   colors=\"#001EFF\", theme=\"solar\")"
   ]
  },
  {
   "cell_type": "markdown",
   "metadata": {
    "tags": []
   },
   "source": [
    "## Define a Python Function"
   ]
  },
  {
   "cell_type": "code",
   "execution_count": 8,
   "metadata": {},
   "outputs": [],
   "source": [
    "def Refinitiv_RSI(start_date='2020-01-01', end_date='2021-08-01', bdpy=360,  # ' bdpy ' stands for 'business days per year'\n",
    "                  maws=[10, 30, 60],  # ' maws ' stands for 'moving average windows'\n",
    "                  rsiw=14, rsi_method=\"Wilder\",  # \"SMA\", \"EMA\", \"Wilder\"\n",
    "                  ric_list=['KO.N', 'VOD.L']):\n",
    "    \"\"\"Refinitiv_RSI(start_date='2020-01-01', end_date='2021-08-01', bdpy=360, maws=[10, 30, 60], rsiw=14, rsi_method=\"Wilder\", ric_list=['KO.N', 'VOD.L']) Version 1.0\n",
    "    This Python function returns the close prices of instruments asked for and\n",
    "    calculates their (i) Natural Log Returns, (ii) 1st Difference,\n",
    "    (iii) Moving Averages, (iv)Natural Log Returns' Moving Averages,\n",
    "    (v) Annual Standard Deviations of a Rolling window of Natural Log Returns,\n",
    "    and (vi) Relative Strength Indices\n",
    "\n",
    "    Dependencies\n",
    "    ----------\n",
    "\n",
    "    Python library 'eikon' version 1.1.8\n",
    "    Python library 'numpy' version 1.18.2\n",
    "    Python library 'statistics'\n",
    "    Python library 'pandas' version 1.2.4\n",
    "\n",
    "    As well as the:\n",
    "\n",
    "    Python library 'datetime' from 'datetime'. Imported via following line:\n",
    "    >>> from datetime import datetime\n",
    "\n",
    "    Python sub-library 'dateutil.relativedelta' version 2.8.1 from 'relativedelta'. Imported via following line:\n",
    "    >>> from dateutil.relativedelta import relativedelta\n",
    "\n",
    "    Parameters\n",
    "    ----------\n",
    "\n",
    "    start_date: str\n",
    "        The starting date in the format '%Y-%m-%d'.\n",
    "        Default: start_date='2020-01-01'.\n",
    "\n",
    "    end_date: str\n",
    "        The end date in the format '%Y-%m-%d'.\n",
    "        Default: start_date='2021-08-01'.\n",
    "\n",
    "    bdpy: int\n",
    "        ' bdpy ' stands for 'business days per year'\n",
    "        Default: bdpy=360.\n",
    "\n",
    "    maws: list\n",
    "        List of integers of the moving average windows asked for.\n",
    "        Default: maws=[10, 30, 60].\n",
    "\n",
    "    rsiw: int\n",
    "        Relative Strength Index window\n",
    "        Default: rsiw=14.\n",
    "\n",
    "    rsi_method: str\n",
    "        To choose from \"SMA\" for 'Simple Moving Average, \"EMA\" for 'Exponential Moving Average', or \"Wilder\".\n",
    "        Default: rsi_method=\"Wilder\".\n",
    "\n",
    "    ric_list: list\n",
    "        List of strings of RICs of instruments for which data is requested.\n",
    "        Default: ric_list=['KO.N', 'VOD.L'].\n",
    "\n",
    "\n",
    "    Returns\n",
    "    -------\n",
    "\n",
    "    Pandas data-frame\n",
    "    \"\"\"\n",
    "\n",
    "    df1, err = ek.get_data(\n",
    "        instruments=ric_list,\n",
    "        fields=['TR.PriceClose.date', 'TR.PriceOpen', 'TR.PriceClose', 'TR.VOlume'],  # could also have TR.RSISimple30D & TR.RSISimple14D\n",
    "        parameters={'SDate': start_date, 'EDate': end_date})\n",
    "\n",
    "    # Step 1: Create a list of days ranging throughout our period.\n",
    "    # The reason we look at every day is because some securities might trade on Sunday (e.g.: in middle-east)\n",
    "    delta = datetime.strptime(end_date, '%Y-%m-%d') - datetime.strptime(start_date, '%Y-%m-%d')\n",
    "    days = [datetime.strptime(start_date, '%Y-%m-%d') + relativedelta(days=i)\n",
    "            for i in range(delta.days + 1)]\n",
    "\n",
    "    # Step 2: Create a pandas data-frame to populate with a loop\n",
    "    df2 = pandas.DataFrame(index=days)\n",
    "\n",
    "    # Step 3: Create a loop to populate our 'df' dataframe\n",
    "    # for m, i in enumerate(ric_list):\n",
    "    for i in ric_list:\n",
    "\n",
    "        # get Close Prices: (You may use any way to collect such data, here we are recycling previous data)\n",
    "        _df = pandas.DataFrame(\n",
    "            data=[float(j) for j in df1[df1[\"Instrument\"] == i][\"Price Close\"]],\n",
    "            columns=[f\"{i} Close\"],\n",
    "            index=[datetime.strptime(df1[df1[\"Instrument\"] == i][\"Date\"][j],\n",
    "                                     '%Y-%m-%dT%H:%M:%SZ')\n",
    "                   for j in list(df1[df1[\"Instrument\"] == i][\"Date\"].index)])\n",
    "\n",
    "        # get ln (logarithme naturel) return from Close Prices:\n",
    "        _df[f\"{i}'s ln Return\"] = numpy.log(\n",
    "            _df[f\"{i} Close\"] / _df[i + \" Close\"].shift(1))\n",
    "\n",
    "        # get 1st difference in Close Prices:\n",
    "        dCP = list((_df[f\"{i} Close\"] - _df[f\"{i} Close\"].shift(1)))\n",
    "        # list.reverse(dCP)\n",
    "        _df[f\"{i}'s 1d Close\"] = dCP\n",
    "\n",
    "        for j in maws:\n",
    "            # get Close Price's 10, 30 and 60 Day Moving Averages\n",
    "            _df[f\"{i}'s Close {str(j)}D MA\"] = _df[f\"{i} Close\"].dropna().rolling(j).mean()\n",
    "\n",
    "            # get Close Price's ln Return 10, 30 and 60 Day Moving Average\n",
    "            _df[f\"{i}'s ln Return' {str(j)}D MA\"] = _df[f\"{i}'s ln Return\"].dropna().rolling(j).mean()\n",
    "#             # You may also want to look into TA-lib's Simple Moving Average function:\n",
    "#             _df[i + \"'s ln Return' \" + str(j) + \" Day Moving Average\"] = ta.SMA(_df[i + \" Close\"], j)\n",
    "\n",
    "            # get Annualised Standard Deviation (i.e.: volatility) of the 10, 30 and 60 Day Rolling Window (Natural Log) Returns (based on CLOSE prices)\n",
    "            _df[f\"{i}'s Ann. S.D. of {str(j)}D Roll. of ln Returns\"] = _df[f\"{i}'s ln Return\"].dropna().rolling(j).std()*(bdpy**0.5)\n",
    "\n",
    "\n",
    "        # RSI: Simple Moving Average\n",
    "        if rsi_method == \"SMA\" or rsi_method == \"Cutler\":\n",
    "            RSIw = []\n",
    "            for k in range(len(dCP) - rsiw):\n",
    "                up_moves, down_moves = [], []\n",
    "                for j in range(k, k + rsiw):\n",
    "                    up_moves.append(max(dCP[j + 1], 0))  # ' + 1 ' because we're looking at 1st difference data, the 1st element of which is always nan.\n",
    "                    down_moves.append(abs(min(dCP[j + 1], 0)))   # ' + 1 ' because we're looking at 1st difference data, the 1st element of which is always nan.\n",
    "                AvgU = statistics.mean(up_moves)\n",
    "                AvgD = statistics.mean(down_moves)\n",
    "                if AvgD == 0:\n",
    "                    RSIw.append(100)\n",
    "                else:\n",
    "                    RSw = AvgU/AvgD\n",
    "                    RSIw.append(100-(100/(1+RSw)))\n",
    "        # RSI: Exponential Moving Average\n",
    "        if rsi_method == \"EMA\" or rsi_method == \"MEMA\" or rsi_method == \"Wilder\":\n",
    "            if rsi_method == \"MEMA\" or rsi_method == \"Wilder\":\n",
    "                a = 1 / rsiw\n",
    "            elif rsi_method == \"EMA\":\n",
    "                a = 2 / (rsiw + 1)\n",
    "            RSIw, up_moves, down_moves = [], [], []\n",
    "            for k in dCP[1:]:  # ' [1:] ' because we're looking at 1st difference data, the 1st element of which is always nan.\n",
    "                up_moves.append(max(k, 0))\n",
    "                down_moves.append(abs(min(k, 0)))\n",
    "            AvgU = [statistics.mean(up_moves[0:rsiw])]\n",
    "            AvgD = [statistics.mean(down_moves[0:rsiw])]\n",
    "            if AvgD[0] == 0:\n",
    "                RSIw.append(100)\n",
    "            else:\n",
    "                RSw = AvgU[0] / AvgD[0]\n",
    "                RSIw.append(100 - (100 / (1 + RSw)))\n",
    "            for k in range(rsiw, len(up_moves)):\n",
    "                AvgU.append(a * up_moves[k] + (1 - a) * AvgU[k - rsiw])\n",
    "                AvgD.append(a * down_moves[k] + (1 - a) * AvgD[k - rsiw])\n",
    "                RSw = AvgU[k - rsiw] / AvgD[k - rsiw]\n",
    "                RSIw.append(100 - (100 / (1 + RSw)))\n",
    "        RSIw.append(numpy.nan)  # This is needed to inser the nan from the 1st difference that was already nan\n",
    "        for k in range(len(_df.index) - len(RSIw)):\n",
    "            RSIw.insert(0, numpy.nan)\n",
    "        _df[f\"{i}'s RSI{rsiw}\"] = RSIw\n",
    "\n",
    "        # Finally: merge all.\n",
    "        return pandas.merge(df2, _df, how=\"outer\", left_index=True, right_index=True)"
   ]
  },
  {
   "cell_type": "code",
   "execution_count": 9,
   "metadata": {},
   "outputs": [],
   "source": [
    "df = Refinitiv_RSI(ric_list=['MSFT.O'])"
   ]
  },
  {
   "cell_type": "code",
   "execution_count": 12,
   "metadata": {},
   "outputs": [
    {
     "data": {
      "text/html": [
       "<div>\n",
       "<style scoped>\n",
       "    .dataframe tbody tr th:only-of-type {\n",
       "        vertical-align: middle;\n",
       "    }\n",
       "\n",
       "    .dataframe tbody tr th {\n",
       "        vertical-align: top;\n",
       "    }\n",
       "\n",
       "    .dataframe thead th {\n",
       "        text-align: right;\n",
       "    }\n",
       "</style>\n",
       "<table border=\"1\" class=\"dataframe\">\n",
       "  <thead>\n",
       "    <tr style=\"text-align: right;\">\n",
       "      <th></th>\n",
       "      <th>MSFT.O Close</th>\n",
       "      <th>MSFT.O's ln Return</th>\n",
       "      <th>MSFT.O's 1d Close</th>\n",
       "      <th>MSFT.O's Close 10D MA</th>\n",
       "      <th>MSFT.O's ln Return' 10D MA</th>\n",
       "      <th>MSFT.O's Ann. S.D. of 10D Roll. of ln Returns</th>\n",
       "      <th>MSFT.O's Close 30D MA</th>\n",
       "      <th>MSFT.O's ln Return' 30D MA</th>\n",
       "      <th>MSFT.O's Ann. S.D. of 30D Roll. of ln Returns</th>\n",
       "      <th>MSFT.O's Close 60D MA</th>\n",
       "      <th>MSFT.O's ln Return' 60D MA</th>\n",
       "      <th>MSFT.O's Ann. S.D. of 60D Roll. of ln Returns</th>\n",
       "      <th>MSFT.O's RSI14</th>\n",
       "    </tr>\n",
       "  </thead>\n",
       "  <tbody>\n",
       "    <tr>\n",
       "      <th>2020-03-30</th>\n",
       "      <td>160.23</td>\n",
       "      <td>0.067977</td>\n",
       "      <td>10.53</td>\n",
       "      <td>146.431</td>\n",
       "      <td>0.016823</td>\n",
       "      <td>0.996665</td>\n",
       "      <td>158.844000</td>\n",
       "      <td>-0.004855</td>\n",
       "      <td>1.170754</td>\n",
       "      <td>164.625167</td>\n",
       "      <td>-0.000041</td>\n",
       "      <td>0.847859</td>\n",
       "      <td>52.673834</td>\n",
       "    </tr>\n",
       "    <tr>\n",
       "      <th>2020-03-31</th>\n",
       "      <td>157.71</td>\n",
       "      <td>-0.015852</td>\n",
       "      <td>-2.52</td>\n",
       "      <td>147.545</td>\n",
       "      <td>0.007325</td>\n",
       "      <td>0.919086</td>\n",
       "      <td>157.860000</td>\n",
       "      <td>-0.005719</td>\n",
       "      <td>1.170091</td>\n",
       "      <td>164.610000</td>\n",
       "      <td>-0.000096</td>\n",
       "      <td>0.848196</td>\n",
       "      <td>51.337963</td>\n",
       "    </tr>\n",
       "    <tr>\n",
       "      <th>2020-04-01</th>\n",
       "      <td>152.11</td>\n",
       "      <td>-0.036154</td>\n",
       "      <td>-5.60</td>\n",
       "      <td>148.716</td>\n",
       "      <td>0.008011</td>\n",
       "      <td>0.904883</td>\n",
       "      <td>156.687667</td>\n",
       "      <td>-0.006933</td>\n",
       "      <td>1.174572</td>\n",
       "      <td>164.494667</td>\n",
       "      <td>-0.000741</td>\n",
       "      <td>0.852745</td>\n",
       "      <td>48.400379</td>\n",
       "    </tr>\n",
       "    <tr>\n",
       "      <th>2020-04-02</th>\n",
       "      <td>155.26</td>\n",
       "      <td>0.020497</td>\n",
       "      <td>3.15</td>\n",
       "      <td>149.971</td>\n",
       "      <td>0.008429</td>\n",
       "      <td>0.906763</td>\n",
       "      <td>155.715667</td>\n",
       "      <td>-0.005737</td>\n",
       "      <td>1.177938</td>\n",
       "      <td>164.456000</td>\n",
       "      <td>-0.000247</td>\n",
       "      <td>0.854052</td>\n",
       "      <td>50.129028</td>\n",
       "    </tr>\n",
       "    <tr>\n",
       "      <th>2020-04-03</th>\n",
       "      <td>153.83</td>\n",
       "      <td>-0.009253</td>\n",
       "      <td>-1.43</td>\n",
       "      <td>151.619</td>\n",
       "      <td>0.011332</td>\n",
       "      <td>0.862599</td>\n",
       "      <td>154.890333</td>\n",
       "      <td>-0.004975</td>\n",
       "      <td>1.174237</td>\n",
       "      <td>164.351667</td>\n",
       "      <td>-0.000665</td>\n",
       "      <td>0.853384</td>\n",
       "      <td>49.321227</td>\n",
       "    </tr>\n",
       "    <tr>\n",
       "      <th>...</th>\n",
       "      <td>...</td>\n",
       "      <td>...</td>\n",
       "      <td>...</td>\n",
       "      <td>...</td>\n",
       "      <td>...</td>\n",
       "      <td>...</td>\n",
       "      <td>...</td>\n",
       "      <td>...</td>\n",
       "      <td>...</td>\n",
       "      <td>...</td>\n",
       "      <td>...</td>\n",
       "      <td>...</td>\n",
       "      <td>...</td>\n",
       "    </tr>\n",
       "    <tr>\n",
       "      <th>2021-07-23</th>\n",
       "      <td>289.67</td>\n",
       "      <td>0.012261</td>\n",
       "      <td>3.53</td>\n",
       "      <td>281.613</td>\n",
       "      <td>0.004134</td>\n",
       "      <td>0.178585</td>\n",
       "      <td>272.277500</td>\n",
       "      <td>0.003958</td>\n",
       "      <td>0.161648</td>\n",
       "      <td>260.488917</td>\n",
       "      <td>0.002153</td>\n",
       "      <td>0.206477</td>\n",
       "      <td>75.427556</td>\n",
       "    </tr>\n",
       "    <tr>\n",
       "      <th>2021-07-26</th>\n",
       "      <td>289.05</td>\n",
       "      <td>-0.002143</td>\n",
       "      <td>-0.62</td>\n",
       "      <td>282.786</td>\n",
       "      <td>0.004143</td>\n",
       "      <td>0.178457</td>\n",
       "      <td>273.316167</td>\n",
       "      <td>0.003802</td>\n",
       "      <td>0.162964</td>\n",
       "      <td>261.097917</td>\n",
       "      <td>0.002252</td>\n",
       "      <td>0.205188</td>\n",
       "      <td>73.900810</td>\n",
       "    </tr>\n",
       "    <tr>\n",
       "      <th>2021-07-27</th>\n",
       "      <td>286.54</td>\n",
       "      <td>-0.008722</td>\n",
       "      <td>-2.51</td>\n",
       "      <td>283.342</td>\n",
       "      <td>0.001959</td>\n",
       "      <td>0.182599</td>\n",
       "      <td>274.204500</td>\n",
       "      <td>0.003254</td>\n",
       "      <td>0.167933</td>\n",
       "      <td>261.670583</td>\n",
       "      <td>0.002129</td>\n",
       "      <td>0.206770</td>\n",
       "      <td>67.908078</td>\n",
       "    </tr>\n",
       "    <tr>\n",
       "      <th>2021-07-28</th>\n",
       "      <td>286.22</td>\n",
       "      <td>-0.001117</td>\n",
       "      <td>-0.32</td>\n",
       "      <td>283.713</td>\n",
       "      <td>0.001305</td>\n",
       "      <td>0.181845</td>\n",
       "      <td>275.133167</td>\n",
       "      <td>0.003414</td>\n",
       "      <td>0.165493</td>\n",
       "      <td>262.243250</td>\n",
       "      <td>0.002131</td>\n",
       "      <td>0.206756</td>\n",
       "      <td>67.160340</td>\n",
       "    </tr>\n",
       "    <tr>\n",
       "      <th>2021-07-29</th>\n",
       "      <td>286.50</td>\n",
       "      <td>0.000978</td>\n",
       "      <td>0.28</td>\n",
       "      <td>284.260</td>\n",
       "      <td>0.001928</td>\n",
       "      <td>0.176626</td>\n",
       "      <td>276.103833</td>\n",
       "      <td>0.003573</td>\n",
       "      <td>0.163726</td>\n",
       "      <td>262.888417</td>\n",
       "      <td>0.002419</td>\n",
       "      <td>0.201630</td>\n",
       "      <td>67.497578</td>\n",
       "    </tr>\n",
       "  </tbody>\n",
       "</table>\n",
       "<p>337 rows × 13 columns</p>\n",
       "</div>"
      ],
      "text/plain": [
       "            MSFT.O Close  MSFT.O's ln Return  MSFT.O's 1d Close  \\\n",
       "2020-03-30        160.23            0.067977              10.53   \n",
       "2020-03-31        157.71           -0.015852              -2.52   \n",
       "2020-04-01        152.11           -0.036154              -5.60   \n",
       "2020-04-02        155.26            0.020497               3.15   \n",
       "2020-04-03        153.83           -0.009253              -1.43   \n",
       "...                  ...                 ...                ...   \n",
       "2021-07-23        289.67            0.012261               3.53   \n",
       "2021-07-26        289.05           -0.002143              -0.62   \n",
       "2021-07-27        286.54           -0.008722              -2.51   \n",
       "2021-07-28        286.22           -0.001117              -0.32   \n",
       "2021-07-29        286.50            0.000978               0.28   \n",
       "\n",
       "            MSFT.O's Close 10D MA  MSFT.O's ln Return' 10D MA  \\\n",
       "2020-03-30                146.431                    0.016823   \n",
       "2020-03-31                147.545                    0.007325   \n",
       "2020-04-01                148.716                    0.008011   \n",
       "2020-04-02                149.971                    0.008429   \n",
       "2020-04-03                151.619                    0.011332   \n",
       "...                           ...                         ...   \n",
       "2021-07-23                281.613                    0.004134   \n",
       "2021-07-26                282.786                    0.004143   \n",
       "2021-07-27                283.342                    0.001959   \n",
       "2021-07-28                283.713                    0.001305   \n",
       "2021-07-29                284.260                    0.001928   \n",
       "\n",
       "            MSFT.O's Ann. S.D. of 10D Roll. of ln Returns  \\\n",
       "2020-03-30                                       0.996665   \n",
       "2020-03-31                                       0.919086   \n",
       "2020-04-01                                       0.904883   \n",
       "2020-04-02                                       0.906763   \n",
       "2020-04-03                                       0.862599   \n",
       "...                                                   ...   \n",
       "2021-07-23                                       0.178585   \n",
       "2021-07-26                                       0.178457   \n",
       "2021-07-27                                       0.182599   \n",
       "2021-07-28                                       0.181845   \n",
       "2021-07-29                                       0.176626   \n",
       "\n",
       "            MSFT.O's Close 30D MA  MSFT.O's ln Return' 30D MA  \\\n",
       "2020-03-30             158.844000                   -0.004855   \n",
       "2020-03-31             157.860000                   -0.005719   \n",
       "2020-04-01             156.687667                   -0.006933   \n",
       "2020-04-02             155.715667                   -0.005737   \n",
       "2020-04-03             154.890333                   -0.004975   \n",
       "...                           ...                         ...   \n",
       "2021-07-23             272.277500                    0.003958   \n",
       "2021-07-26             273.316167                    0.003802   \n",
       "2021-07-27             274.204500                    0.003254   \n",
       "2021-07-28             275.133167                    0.003414   \n",
       "2021-07-29             276.103833                    0.003573   \n",
       "\n",
       "            MSFT.O's Ann. S.D. of 30D Roll. of ln Returns  \\\n",
       "2020-03-30                                       1.170754   \n",
       "2020-03-31                                       1.170091   \n",
       "2020-04-01                                       1.174572   \n",
       "2020-04-02                                       1.177938   \n",
       "2020-04-03                                       1.174237   \n",
       "...                                                   ...   \n",
       "2021-07-23                                       0.161648   \n",
       "2021-07-26                                       0.162964   \n",
       "2021-07-27                                       0.167933   \n",
       "2021-07-28                                       0.165493   \n",
       "2021-07-29                                       0.163726   \n",
       "\n",
       "            MSFT.O's Close 60D MA  MSFT.O's ln Return' 60D MA  \\\n",
       "2020-03-30             164.625167                   -0.000041   \n",
       "2020-03-31             164.610000                   -0.000096   \n",
       "2020-04-01             164.494667                   -0.000741   \n",
       "2020-04-02             164.456000                   -0.000247   \n",
       "2020-04-03             164.351667                   -0.000665   \n",
       "...                           ...                         ...   \n",
       "2021-07-23             260.488917                    0.002153   \n",
       "2021-07-26             261.097917                    0.002252   \n",
       "2021-07-27             261.670583                    0.002129   \n",
       "2021-07-28             262.243250                    0.002131   \n",
       "2021-07-29             262.888417                    0.002419   \n",
       "\n",
       "            MSFT.O's Ann. S.D. of 60D Roll. of ln Returns  MSFT.O's RSI14  \n",
       "2020-03-30                                       0.847859       52.673834  \n",
       "2020-03-31                                       0.848196       51.337963  \n",
       "2020-04-01                                       0.852745       48.400379  \n",
       "2020-04-02                                       0.854052       50.129028  \n",
       "2020-04-03                                       0.853384       49.321227  \n",
       "...                                                   ...             ...  \n",
       "2021-07-23                                       0.206477       75.427556  \n",
       "2021-07-26                                       0.205188       73.900810  \n",
       "2021-07-27                                       0.206770       67.908078  \n",
       "2021-07-28                                       0.206756       67.160340  \n",
       "2021-07-29                                       0.201630       67.497578  \n",
       "\n",
       "[337 rows x 13 columns]"
      ]
     },
     "execution_count": 12,
     "metadata": {},
     "output_type": "execute_result"
    }
   ],
   "source": [
    "df.dropna()"
   ]
  },
  {
   "cell_type": "code",
   "execution_count": 10,
   "metadata": {},
   "outputs": [
    {
     "data": {
      "application/vnd.plotly.v1+json": {
       "config": {
        "linkText": "Export to chart-studio.plotly.com",
        "plotlyServerURL": "https://chart-studio.plotly.com",
        "showLink": true
       },
       "data": [
        {
         "line": {
          "color": "rgba(0, 30, 255, 1.0)",
          "dash": "solid",
          "shape": "linear",
          "width": 1.3
         },
         "mode": "lines",
         "name": "MSFT.O's RSI14",
         "text": "",
         "type": "scatter",
         "x": [
          "2020-01-22",
          "2020-01-23",
          "2020-01-24",
          "2020-01-27",
          "2020-01-28",
          "2020-01-29",
          "2020-01-30",
          "2020-01-31",
          "2020-02-03",
          "2020-02-04",
          "2020-02-05",
          "2020-02-06",
          "2020-02-07",
          "2020-02-10",
          "2020-02-11",
          "2020-02-12",
          "2020-02-13",
          "2020-02-14",
          "2020-02-18",
          "2020-02-19",
          "2020-02-20",
          "2020-02-21",
          "2020-02-24",
          "2020-02-25",
          "2020-02-26",
          "2020-02-27",
          "2020-02-28",
          "2020-03-02",
          "2020-03-03",
          "2020-03-04",
          "2020-03-05",
          "2020-03-06",
          "2020-03-09",
          "2020-03-10",
          "2020-03-11",
          "2020-03-12",
          "2020-03-13",
          "2020-03-16",
          "2020-03-17",
          "2020-03-18",
          "2020-03-19",
          "2020-03-20",
          "2020-03-23",
          "2020-03-24",
          "2020-03-25",
          "2020-03-26",
          "2020-03-27",
          "2020-03-30",
          "2020-03-31",
          "2020-04-01",
          "2020-04-02",
          "2020-04-03",
          "2020-04-06",
          "2020-04-07",
          "2020-04-08",
          "2020-04-09",
          "2020-04-13",
          "2020-04-14",
          "2020-04-15",
          "2020-04-16",
          "2020-04-17",
          "2020-04-20",
          "2020-04-21",
          "2020-04-22",
          "2020-04-23",
          "2020-04-24",
          "2020-04-27",
          "2020-04-28",
          "2020-04-29",
          "2020-04-30",
          "2020-05-01",
          "2020-05-04",
          "2020-05-05",
          "2020-05-06",
          "2020-05-07",
          "2020-05-08",
          "2020-05-11",
          "2020-05-12",
          "2020-05-13",
          "2020-05-14",
          "2020-05-15",
          "2020-05-18",
          "2020-05-19",
          "2020-05-20",
          "2020-05-21",
          "2020-05-22",
          "2020-05-26",
          "2020-05-27",
          "2020-05-28",
          "2020-05-29",
          "2020-06-01",
          "2020-06-02",
          "2020-06-03",
          "2020-06-04",
          "2020-06-05",
          "2020-06-08",
          "2020-06-09",
          "2020-06-10",
          "2020-06-11",
          "2020-06-12",
          "2020-06-15",
          "2020-06-16",
          "2020-06-17",
          "2020-06-18",
          "2020-06-19",
          "2020-06-22",
          "2020-06-23",
          "2020-06-24",
          "2020-06-25",
          "2020-06-26",
          "2020-06-29",
          "2020-06-30",
          "2020-07-01",
          "2020-07-02",
          "2020-07-06",
          "2020-07-07",
          "2020-07-08",
          "2020-07-09",
          "2020-07-10",
          "2020-07-13",
          "2020-07-14",
          "2020-07-15",
          "2020-07-16",
          "2020-07-17",
          "2020-07-20",
          "2020-07-21",
          "2020-07-22",
          "2020-07-23",
          "2020-07-24",
          "2020-07-27",
          "2020-07-28",
          "2020-07-29",
          "2020-07-30",
          "2020-07-31",
          "2020-08-03",
          "2020-08-04",
          "2020-08-05",
          "2020-08-06",
          "2020-08-07",
          "2020-08-10",
          "2020-08-11",
          "2020-08-12",
          "2020-08-13",
          "2020-08-14",
          "2020-08-17",
          "2020-08-18",
          "2020-08-19",
          "2020-08-20",
          "2020-08-21",
          "2020-08-24",
          "2020-08-25",
          "2020-08-26",
          "2020-08-27",
          "2020-08-28",
          "2020-08-31",
          "2020-09-01",
          "2020-09-02",
          "2020-09-03",
          "2020-09-04",
          "2020-09-08",
          "2020-09-09",
          "2020-09-10",
          "2020-09-11",
          "2020-09-14",
          "2020-09-15",
          "2020-09-16",
          "2020-09-17",
          "2020-09-18",
          "2020-09-21",
          "2020-09-22",
          "2020-09-23",
          "2020-09-24",
          "2020-09-25",
          "2020-09-28",
          "2020-09-29",
          "2020-09-30",
          "2020-10-01",
          "2020-10-02",
          "2020-10-05",
          "2020-10-06",
          "2020-10-07",
          "2020-10-08",
          "2020-10-09",
          "2020-10-12",
          "2020-10-13",
          "2020-10-14",
          "2020-10-15",
          "2020-10-16",
          "2020-10-19",
          "2020-10-20",
          "2020-10-21",
          "2020-10-22",
          "2020-10-23",
          "2020-10-26",
          "2020-10-27",
          "2020-10-28",
          "2020-10-29",
          "2020-10-30",
          "2020-11-02",
          "2020-11-03",
          "2020-11-04",
          "2020-11-05",
          "2020-11-06",
          "2020-11-09",
          "2020-11-10",
          "2020-11-11",
          "2020-11-12",
          "2020-11-13",
          "2020-11-16",
          "2020-11-17",
          "2020-11-18",
          "2020-11-19",
          "2020-11-20",
          "2020-11-23",
          "2020-11-24",
          "2020-11-25",
          "2020-11-27",
          "2020-11-30",
          "2020-12-01",
          "2020-12-02",
          "2020-12-03",
          "2020-12-04",
          "2020-12-07",
          "2020-12-08",
          "2020-12-09",
          "2020-12-10",
          "2020-12-11",
          "2020-12-14",
          "2020-12-15",
          "2020-12-16",
          "2020-12-17",
          "2020-12-18",
          "2020-12-21",
          "2020-12-22",
          "2020-12-23",
          "2020-12-24",
          "2020-12-28",
          "2020-12-29",
          "2020-12-30",
          "2020-12-31",
          "2021-01-04",
          "2021-01-05",
          "2021-01-06",
          "2021-01-07",
          "2021-01-08",
          "2021-01-11",
          "2021-01-12",
          "2021-01-13",
          "2021-01-14",
          "2021-01-15",
          "2021-01-19",
          "2021-01-20",
          "2021-01-21",
          "2021-01-22",
          "2021-01-25",
          "2021-01-26",
          "2021-01-27",
          "2021-01-28",
          "2021-01-29",
          "2021-02-01",
          "2021-02-02",
          "2021-02-03",
          "2021-02-04",
          "2021-02-05",
          "2021-02-08",
          "2021-02-09",
          "2021-02-10",
          "2021-02-11",
          "2021-02-12",
          "2021-02-16",
          "2021-02-17",
          "2021-02-18",
          "2021-02-19",
          "2021-02-22",
          "2021-02-23",
          "2021-02-24",
          "2021-02-25",
          "2021-02-26",
          "2021-03-01",
          "2021-03-02",
          "2021-03-03",
          "2021-03-04",
          "2021-03-05",
          "2021-03-08",
          "2021-03-09",
          "2021-03-10",
          "2021-03-11",
          "2021-03-12",
          "2021-03-15",
          "2021-03-16",
          "2021-03-17",
          "2021-03-18",
          "2021-03-19",
          "2021-03-22",
          "2021-03-23",
          "2021-03-24",
          "2021-03-25",
          "2021-03-26",
          "2021-03-29",
          "2021-03-30",
          "2021-03-31",
          "2021-04-01",
          "2021-04-05",
          "2021-04-06",
          "2021-04-07",
          "2021-04-08",
          "2021-04-09",
          "2021-04-12",
          "2021-04-13",
          "2021-04-14",
          "2021-04-15",
          "2021-04-16",
          "2021-04-19",
          "2021-04-20",
          "2021-04-21",
          "2021-04-22",
          "2021-04-23",
          "2021-04-26",
          "2021-04-27",
          "2021-04-28",
          "2021-04-29",
          "2021-04-30",
          "2021-05-03",
          "2021-05-04",
          "2021-05-05",
          "2021-05-06",
          "2021-05-07",
          "2021-05-10",
          "2021-05-11",
          "2021-05-12",
          "2021-05-13",
          "2021-05-14",
          "2021-05-17",
          "2021-05-18",
          "2021-05-19",
          "2021-05-20",
          "2021-05-21",
          "2021-05-24",
          "2021-05-25",
          "2021-05-26",
          "2021-05-27",
          "2021-05-28",
          "2021-06-01",
          "2021-06-02",
          "2021-06-03",
          "2021-06-04",
          "2021-06-07",
          "2021-06-08",
          "2021-06-09",
          "2021-06-10",
          "2021-06-11",
          "2021-06-14",
          "2021-06-15",
          "2021-06-16",
          "2021-06-17",
          "2021-06-18",
          "2021-06-21",
          "2021-06-22",
          "2021-06-23",
          "2021-06-24",
          "2021-06-25",
          "2021-06-28",
          "2021-06-29",
          "2021-06-30",
          "2021-07-01",
          "2021-07-02",
          "2021-07-06",
          "2021-07-07",
          "2021-07-08",
          "2021-07-09",
          "2021-07-12",
          "2021-07-13",
          "2021-07-14",
          "2021-07-15",
          "2021-07-16",
          "2021-07-19",
          "2021-07-20",
          "2021-07-21",
          "2021-07-22",
          "2021-07-23",
          "2021-07-26",
          "2021-07-27",
          "2021-07-28",
          "2021-07-29"
         ],
         "y": [
          65.5612244897959,
          65.5612244897959,
          60.020839321644125,
          52.214170305256886,
          58.854488483701125,
          63.309242298732514,
          69.78225689666463,
          63.31117627579575,
          68.4404431441142,
          73.87978893006931,
          73.35792380499767,
          76.40152286435959,
          76.60217512671974,
          79.99161897763892,
          70.28113393215337,
          70.52535541420671,
          68.28709215157178,
          69.97032811465765,
          71.81702036752544,
          71.86657262246486,
          64.84355082238605,
          53.38991180338114,
          42.66970433992242,
          39.53852784453409,
          42.89889913463853,
          31.972637726542985,
          37.45284835230911,
          49.72839951964609,
          42.78294874719495,
          48.44011780327908,
          45.041676700199375,
          41.59093822013871,
          34.88528982466255,
          44.027017829783844,
          39.771112930362136,
          32.92146166194418,
          46.40879373330431,
          36.937845758175214,
          42.91349083294959,
          40.61973064117738,
          41.87243276485923,
          39.77561793780897,
          39.23480896539369,
          46.32534114933014,
          45.66605789488298,
          50.56908114417513,
          47.35895534140003,
          52.67383382357828,
          51.33796341636282,
          48.40037915076072,
          50.12902784137025,
          49.32122705624391,
          55.49934334266589,
          54.38834228915044,
          55.2766621340575,
          55.28238104079259,
          55.50907328624555,
          60.30586830940279,
          58.78899975110133,
          61.72820681356151,
          62.59673930771147,
          59.30760940708062,
          53.15583695729062,
          56.94252377216332,
          55.17298727324151,
          57.302755705879235,
          56.83819421259408,
          52.9201502442316,
          58.461928692324186,
          59.656567587976596,
          55.19989018822065,
          58.288104557658485,
          59.6354726830002,
          60.89655889627605,
          61.66465372908738,
          62.47345353543766,
          64.03222817299257,
          58.64536145778644,
          55.3720906673823,
          56.117525328170984,
          58.626907748075574,
          60.255526648035314,
          58.443379684284466,
          60.47365056800581,
          57.169414849113885,
          57.25963693216172,
          54.273934156587906,
          54.58939788903635,
          53.9052127094396,
          56.55136049450458,
          55.768626005199934,
          58.80929643633379,
          59.45863493172725,
          54.44669921164667,
          60.703881892073404,
          62.21861380309152,
          64.07014395077188,
          71.4392844130854,
          53.648166043205585,
          55.314861651928176,
          56.68411910825023,
          61.576331094926374,
          62.24092741238614,
          64.30506620367619,
          62.24386062862976,
          67.44906405908553,
          68.60158300894628,
          61.48123131147792,
          63.955978454160906,
          57.567136955524674,
          59.84041693742986,
          64.72994473599256,
          65.78298159551244,
          67.16690353992914,
          70.78824989867006,
          66.43397110299446,
          70.1325681277024,
          71.2427395321267,
          70.02002191708837,
          58.95566102246545,
          60.26697426403744,
          59.76893326760171,
          53.4472689698817,
          51.95347289064918,
          61.635444347888885,
          57.55332872186241,
          60.51760918566609,
          49.16586921841712,
          47.864090343101836,
          50.751884877798794,
          48.668484446408655,
          51.079368842846655,
          50.87753552286425,
          52.28611009878673,
          63.87412580457569,
          59.48845830866381,
          59.01849040784295,
          62.15545614561093,
          56.838022800918246,
          51.63798860391293,
          46.37726321895402,
          52.58361779786389,
          52.036600380084096,
          52.25492257725759,
          53.81700450480684,
          55.20099943282941,
          52.68565685057869,
          58.2686161652574,
          55.99402778673694,
          56.77447454472069,
          59.94846422928603,
          64.65382945687264,
          69.17831497878912,
          70.89965155963756,
          65.21019986778732,
          66.6920080738542,
          70.13980904804984,
          51.37614257462333,
          48.411744775297564,
          39.164095168774104,
          47.244940449521366,
          43.02316818452424,
          42.105995294774154,
          43.443184134000006,
          46.681875147057035,
          43.69909899419026,
          42.03943980578253,
          40.1077126813938,
          42.533893868783466,
          47.71145173351225,
          42.006924683173544,
          44.71667036216938,
          49.26308245271688,
          50.788061189098144,
          48.668182542989314,
          51.72413104248462,
          53.7800898001428,
          47.38303859061317,
          51.532045528490585,
          47.2513819727349,
          51.088522648238,
          51.810803661678406,
          56.6213715027764,
          61.09210883725478,
          62.188223902667794,
          59.70678292749838,
          58.206061972036956,
          58.20606197203696,
          51.412023619165964,
          51.89004679245168,
          52.067204635022385,
          52.18098361099335,
          53.93427518171485,
          45.659766867402496,
          49.92431552632363,
          38.94838322304689,
          41.616232444096106,
          39.562765179991004,
          39.432385989416815,
          45.134804379167434,
          55.97782480715686,
          61.63458400013137,
          61.96261200932227,
          55.61505218826723,
          48.24540233525161,
          53.25317609832572,
          52.16408242890764,
          53.15856100006336,
          53.85376300335819,
          50.7340660252169,
          47.14521375817193,
          48.69471108216723,
          46.472045027006,
          46.15907968820424,
          50.92575933726716,
          50.93823317501043,
          52.69915076621165,
          51.01718893059687,
          53.93795138592073,
          52.61182148883566,
          50.8023197569182,
          50.99507353225354,
          50.86986890969533,
          53.867085473573766,
          46.40480622494463,
          44.39127577217072,
          49.44788979249372,
          51.091003428521574,
          50.95817316606745,
          59.334803433987815,
          59.53713554903757,
          57.70404898822393,
          63.53151028435715,
          65.27065475197944,
          58.74502078850298,
          61.218869519254824,
          64.17430979589787,
          62.30031075474736,
          56.84869457274656,
          58.033527128356916,
          48.80841150641631,
          49.19455255298111,
          40.371212908711115,
          50.57644989229487,
          52.50407619519924,
          49.19488755994892,
          45.48436020168517,
          47.818855979689964,
          43.134981482000676,
          42.63378469367939,
          49.15128173802595,
          59.484174098541615,
          60.1791198300589,
          61.2913742946124,
          65.12372329064081,
          67.8082148775888,
          68.34242375616085,
          73.37590091611187,
          61.252734384925816,
          67.61099684773183,
          67.394173461875,
          69.9788060604636,
          68.32428183583912,
          68.47831672219024,
          68.71116703925934,
          69.86540937664817,
          67.89432133459086,
          69.52213932424928,
          70.01237429370684,
          67.01727673443543,
          67.59590682819007,
          66.56467371634318,
          59.8064241924891,
          47.827094751489895,
          45.92552335409179,
          48.21439105700051,
          40.24554121242383,
          46.095509271862085,
          52.790667771882056,
          48.42948781247264,
          40.942649373714,
          40.06526475047311,
          47.213118163843866,
          42.49496201772617,
          50.56934646382245,
          48.99261799251396,
          54.30626729437448,
          52.578015921953074,
          51.37859226920516,
          54.804080424537446,
          53.85997054748989,
          45.83829549886392,
          45.41187534774125,
          52.64371731748104,
          54.47478931407609,
          51.609422442451304,
          47.63803775540425,
          52.82545421542607,
          51.189678954439636,
          46.912732419972144,
          51.91567993617164,
          58.914828176028266,
          64.58455887198878,
          62.9013497775988,
          64.57751887453708,
          67.19843771402519,
          69.1088284300194,
          69.1534758625314,
          71.08849785614785,
          66.07136151204269,
          69.22504059500494,
          70.1719438900363,
          66.61191865866783,
          65.74977475221796,
          67.91153810994697,
          61.742983575879926,
          65.66322424996608,
          66.039869578245,
          66.45593606192594,
          53.90734593099615,
          51.03617149014435,
          50.56925102178901,
          50.09068428333795,
          44.342797653081085,
          42.63407234359671,
          47.96689628824379,
          51.9917391498229,
          44.77757920127922,
          43.60521060541325,
          35.901272523511096,
          42.04736403052114,
          48.76841248046722,
          45.47385721582397,
          43.24909923233002,
          43.30599546280472,
          48.020208828569544,
          46.40023145307349,
          53.61667231431496,
          54.7168094801745,
          54.376961622480515,
          51.13508772936236,
          51.66183375163676,
          48.21289740391786,
          48.06134559519769,
          45.60659513486584,
          53.736750258546564,
          57.77718150648326,
          55.62889860477689,
          57.043793599025726,
          61.74480974967895,
          62.5312047214292,
          64.92068158983037,
          61.68009058308923,
          59.62702135018864,
          64.23225269245813,
          61.09791075181166,
          65.09132128162052,
          68.25024146309316,
          67.71181087046048,
          69.28316909649358,
          65.24728509606419,
          69.48810687349274,
          72.14002303561344,
          70.90188711417437,
          71.6358507248233,
          77.0288912118425,
          77.03666313009649,
          78.79086571939222,
          72.22121765793254,
          72.72854566325614,
          71.06211671748504,
          74.74141497435573,
          76.10892034054392,
          72.04558769309797,
          71.27034677426848,
          61.717441572185024,
          64.85117777173082,
          67.43602528296339,
          72.41458152105763,
          75.4275557309443,
          73.900810036893,
          67.90807844651223,
          67.16034043831641,
          67.49757841168082
         ]
        }
       ],
       "layout": {
        "autosize": true,
        "legend": {
         "bgcolor": "#151516",
         "font": {
          "color": "#D9D9D9"
         }
        },
        "paper_bgcolor": "#151516",
        "plot_bgcolor": "#151516",
        "template": {
         "data": {
          "bar": [
           {
            "error_x": {
             "color": "#2a3f5f"
            },
            "error_y": {
             "color": "#2a3f5f"
            },
            "marker": {
             "line": {
              "color": "#E5ECF6",
              "width": 0.5
             }
            },
            "type": "bar"
           }
          ],
          "barpolar": [
           {
            "marker": {
             "line": {
              "color": "#E5ECF6",
              "width": 0.5
             }
            },
            "type": "barpolar"
           }
          ],
          "carpet": [
           {
            "aaxis": {
             "endlinecolor": "#2a3f5f",
             "gridcolor": "white",
             "linecolor": "white",
             "minorgridcolor": "white",
             "startlinecolor": "#2a3f5f"
            },
            "baxis": {
             "endlinecolor": "#2a3f5f",
             "gridcolor": "white",
             "linecolor": "white",
             "minorgridcolor": "white",
             "startlinecolor": "#2a3f5f"
            },
            "type": "carpet"
           }
          ],
          "choropleth": [
           {
            "colorbar": {
             "outlinewidth": 0,
             "ticks": ""
            },
            "type": "choropleth"
           }
          ],
          "contour": [
           {
            "colorbar": {
             "outlinewidth": 0,
             "ticks": ""
            },
            "colorscale": [
             [
              0,
              "#0d0887"
             ],
             [
              0.1111111111111111,
              "#46039f"
             ],
             [
              0.2222222222222222,
              "#7201a8"
             ],
             [
              0.3333333333333333,
              "#9c179e"
             ],
             [
              0.4444444444444444,
              "#bd3786"
             ],
             [
              0.5555555555555556,
              "#d8576b"
             ],
             [
              0.6666666666666666,
              "#ed7953"
             ],
             [
              0.7777777777777778,
              "#fb9f3a"
             ],
             [
              0.8888888888888888,
              "#fdca26"
             ],
             [
              1,
              "#f0f921"
             ]
            ],
            "type": "contour"
           }
          ],
          "contourcarpet": [
           {
            "colorbar": {
             "outlinewidth": 0,
             "ticks": ""
            },
            "type": "contourcarpet"
           }
          ],
          "heatmap": [
           {
            "colorbar": {
             "outlinewidth": 0,
             "ticks": ""
            },
            "colorscale": [
             [
              0,
              "#0d0887"
             ],
             [
              0.1111111111111111,
              "#46039f"
             ],
             [
              0.2222222222222222,
              "#7201a8"
             ],
             [
              0.3333333333333333,
              "#9c179e"
             ],
             [
              0.4444444444444444,
              "#bd3786"
             ],
             [
              0.5555555555555556,
              "#d8576b"
             ],
             [
              0.6666666666666666,
              "#ed7953"
             ],
             [
              0.7777777777777778,
              "#fb9f3a"
             ],
             [
              0.8888888888888888,
              "#fdca26"
             ],
             [
              1,
              "#f0f921"
             ]
            ],
            "type": "heatmap"
           }
          ],
          "heatmapgl": [
           {
            "colorbar": {
             "outlinewidth": 0,
             "ticks": ""
            },
            "colorscale": [
             [
              0,
              "#0d0887"
             ],
             [
              0.1111111111111111,
              "#46039f"
             ],
             [
              0.2222222222222222,
              "#7201a8"
             ],
             [
              0.3333333333333333,
              "#9c179e"
             ],
             [
              0.4444444444444444,
              "#bd3786"
             ],
             [
              0.5555555555555556,
              "#d8576b"
             ],
             [
              0.6666666666666666,
              "#ed7953"
             ],
             [
              0.7777777777777778,
              "#fb9f3a"
             ],
             [
              0.8888888888888888,
              "#fdca26"
             ],
             [
              1,
              "#f0f921"
             ]
            ],
            "type": "heatmapgl"
           }
          ],
          "histogram": [
           {
            "marker": {
             "colorbar": {
              "outlinewidth": 0,
              "ticks": ""
             }
            },
            "type": "histogram"
           }
          ],
          "histogram2d": [
           {
            "colorbar": {
             "outlinewidth": 0,
             "ticks": ""
            },
            "colorscale": [
             [
              0,
              "#0d0887"
             ],
             [
              0.1111111111111111,
              "#46039f"
             ],
             [
              0.2222222222222222,
              "#7201a8"
             ],
             [
              0.3333333333333333,
              "#9c179e"
             ],
             [
              0.4444444444444444,
              "#bd3786"
             ],
             [
              0.5555555555555556,
              "#d8576b"
             ],
             [
              0.6666666666666666,
              "#ed7953"
             ],
             [
              0.7777777777777778,
              "#fb9f3a"
             ],
             [
              0.8888888888888888,
              "#fdca26"
             ],
             [
              1,
              "#f0f921"
             ]
            ],
            "type": "histogram2d"
           }
          ],
          "histogram2dcontour": [
           {
            "colorbar": {
             "outlinewidth": 0,
             "ticks": ""
            },
            "colorscale": [
             [
              0,
              "#0d0887"
             ],
             [
              0.1111111111111111,
              "#46039f"
             ],
             [
              0.2222222222222222,
              "#7201a8"
             ],
             [
              0.3333333333333333,
              "#9c179e"
             ],
             [
              0.4444444444444444,
              "#bd3786"
             ],
             [
              0.5555555555555556,
              "#d8576b"
             ],
             [
              0.6666666666666666,
              "#ed7953"
             ],
             [
              0.7777777777777778,
              "#fb9f3a"
             ],
             [
              0.8888888888888888,
              "#fdca26"
             ],
             [
              1,
              "#f0f921"
             ]
            ],
            "type": "histogram2dcontour"
           }
          ],
          "mesh3d": [
           {
            "colorbar": {
             "outlinewidth": 0,
             "ticks": ""
            },
            "type": "mesh3d"
           }
          ],
          "parcoords": [
           {
            "line": {
             "colorbar": {
              "outlinewidth": 0,
              "ticks": ""
             }
            },
            "type": "parcoords"
           }
          ],
          "pie": [
           {
            "automargin": true,
            "type": "pie"
           }
          ],
          "scatter": [
           {
            "marker": {
             "colorbar": {
              "outlinewidth": 0,
              "ticks": ""
             }
            },
            "type": "scatter"
           }
          ],
          "scatter3d": [
           {
            "line": {
             "colorbar": {
              "outlinewidth": 0,
              "ticks": ""
             }
            },
            "marker": {
             "colorbar": {
              "outlinewidth": 0,
              "ticks": ""
             }
            },
            "type": "scatter3d"
           }
          ],
          "scattercarpet": [
           {
            "marker": {
             "colorbar": {
              "outlinewidth": 0,
              "ticks": ""
             }
            },
            "type": "scattercarpet"
           }
          ],
          "scattergeo": [
           {
            "marker": {
             "colorbar": {
              "outlinewidth": 0,
              "ticks": ""
             }
            },
            "type": "scattergeo"
           }
          ],
          "scattergl": [
           {
            "marker": {
             "colorbar": {
              "outlinewidth": 0,
              "ticks": ""
             }
            },
            "type": "scattergl"
           }
          ],
          "scattermapbox": [
           {
            "marker": {
             "colorbar": {
              "outlinewidth": 0,
              "ticks": ""
             }
            },
            "type": "scattermapbox"
           }
          ],
          "scatterpolar": [
           {
            "marker": {
             "colorbar": {
              "outlinewidth": 0,
              "ticks": ""
             }
            },
            "type": "scatterpolar"
           }
          ],
          "scatterpolargl": [
           {
            "marker": {
             "colorbar": {
              "outlinewidth": 0,
              "ticks": ""
             }
            },
            "type": "scatterpolargl"
           }
          ],
          "scatterternary": [
           {
            "marker": {
             "colorbar": {
              "outlinewidth": 0,
              "ticks": ""
             }
            },
            "type": "scatterternary"
           }
          ],
          "surface": [
           {
            "colorbar": {
             "outlinewidth": 0,
             "ticks": ""
            },
            "colorscale": [
             [
              0,
              "#0d0887"
             ],
             [
              0.1111111111111111,
              "#46039f"
             ],
             [
              0.2222222222222222,
              "#7201a8"
             ],
             [
              0.3333333333333333,
              "#9c179e"
             ],
             [
              0.4444444444444444,
              "#bd3786"
             ],
             [
              0.5555555555555556,
              "#d8576b"
             ],
             [
              0.6666666666666666,
              "#ed7953"
             ],
             [
              0.7777777777777778,
              "#fb9f3a"
             ],
             [
              0.8888888888888888,
              "#fdca26"
             ],
             [
              1,
              "#f0f921"
             ]
            ],
            "type": "surface"
           }
          ],
          "table": [
           {
            "cells": {
             "fill": {
              "color": "#EBF0F8"
             },
             "line": {
              "color": "white"
             }
            },
            "header": {
             "fill": {
              "color": "#C8D4E3"
             },
             "line": {
              "color": "white"
             }
            },
            "type": "table"
           }
          ]
         },
         "layout": {
          "annotationdefaults": {
           "arrowcolor": "#2a3f5f",
           "arrowhead": 0,
           "arrowwidth": 1
          },
          "autotypenumbers": "strict",
          "coloraxis": {
           "colorbar": {
            "outlinewidth": 0,
            "ticks": ""
           }
          },
          "colorscale": {
           "diverging": [
            [
             0,
             "#8e0152"
            ],
            [
             0.1,
             "#c51b7d"
            ],
            [
             0.2,
             "#de77ae"
            ],
            [
             0.3,
             "#f1b6da"
            ],
            [
             0.4,
             "#fde0ef"
            ],
            [
             0.5,
             "#f7f7f7"
            ],
            [
             0.6,
             "#e6f5d0"
            ],
            [
             0.7,
             "#b8e186"
            ],
            [
             0.8,
             "#7fbc41"
            ],
            [
             0.9,
             "#4d9221"
            ],
            [
             1,
             "#276419"
            ]
           ],
           "sequential": [
            [
             0,
             "#0d0887"
            ],
            [
             0.1111111111111111,
             "#46039f"
            ],
            [
             0.2222222222222222,
             "#7201a8"
            ],
            [
             0.3333333333333333,
             "#9c179e"
            ],
            [
             0.4444444444444444,
             "#bd3786"
            ],
            [
             0.5555555555555556,
             "#d8576b"
            ],
            [
             0.6666666666666666,
             "#ed7953"
            ],
            [
             0.7777777777777778,
             "#fb9f3a"
            ],
            [
             0.8888888888888888,
             "#fdca26"
            ],
            [
             1,
             "#f0f921"
            ]
           ],
           "sequentialminus": [
            [
             0,
             "#0d0887"
            ],
            [
             0.1111111111111111,
             "#46039f"
            ],
            [
             0.2222222222222222,
             "#7201a8"
            ],
            [
             0.3333333333333333,
             "#9c179e"
            ],
            [
             0.4444444444444444,
             "#bd3786"
            ],
            [
             0.5555555555555556,
             "#d8576b"
            ],
            [
             0.6666666666666666,
             "#ed7953"
            ],
            [
             0.7777777777777778,
             "#fb9f3a"
            ],
            [
             0.8888888888888888,
             "#fdca26"
            ],
            [
             1,
             "#f0f921"
            ]
           ]
          },
          "colorway": [
           "#636efa",
           "#EF553B",
           "#00cc96",
           "#ab63fa",
           "#FFA15A",
           "#19d3f3",
           "#FF6692",
           "#B6E880",
           "#FF97FF",
           "#FECB52"
          ],
          "font": {
           "color": "#2a3f5f"
          },
          "geo": {
           "bgcolor": "white",
           "lakecolor": "white",
           "landcolor": "#E5ECF6",
           "showlakes": true,
           "showland": true,
           "subunitcolor": "white"
          },
          "hoverlabel": {
           "align": "left"
          },
          "hovermode": "closest",
          "mapbox": {
           "style": "light"
          },
          "paper_bgcolor": "white",
          "plot_bgcolor": "#E5ECF6",
          "polar": {
           "angularaxis": {
            "gridcolor": "white",
            "linecolor": "white",
            "ticks": ""
           },
           "bgcolor": "#E5ECF6",
           "radialaxis": {
            "gridcolor": "white",
            "linecolor": "white",
            "ticks": ""
           }
          },
          "scene": {
           "xaxis": {
            "backgroundcolor": "#E5ECF6",
            "gridcolor": "white",
            "gridwidth": 2,
            "linecolor": "white",
            "showbackground": true,
            "ticks": "",
            "zerolinecolor": "white"
           },
           "yaxis": {
            "backgroundcolor": "#E5ECF6",
            "gridcolor": "white",
            "gridwidth": 2,
            "linecolor": "white",
            "showbackground": true,
            "ticks": "",
            "zerolinecolor": "white"
           },
           "zaxis": {
            "backgroundcolor": "#E5ECF6",
            "gridcolor": "white",
            "gridwidth": 2,
            "linecolor": "white",
            "showbackground": true,
            "ticks": "",
            "zerolinecolor": "white"
           }
          },
          "shapedefaults": {
           "line": {
            "color": "#2a3f5f"
           }
          },
          "ternary": {
           "aaxis": {
            "gridcolor": "white",
            "linecolor": "white",
            "ticks": ""
           },
           "baxis": {
            "gridcolor": "white",
            "linecolor": "white",
            "ticks": ""
           },
           "bgcolor": "#E5ECF6",
           "caxis": {
            "gridcolor": "white",
            "linecolor": "white",
            "ticks": ""
           }
          },
          "title": {
           "x": 0.05
          },
          "xaxis": {
           "automargin": true,
           "gridcolor": "white",
           "linecolor": "white",
           "ticks": "",
           "title": {
            "standoff": 15
           },
           "zerolinecolor": "white",
           "zerolinewidth": 2
          },
          "yaxis": {
           "automargin": true,
           "gridcolor": "white",
           "linecolor": "white",
           "ticks": "",
           "title": {
            "standoff": 15
           },
           "zerolinecolor": "white",
           "zerolinewidth": 2
          }
         }
        },
        "title": {
         "font": {
          "color": "#D9D9D9"
         },
         "text": "MSFT.O's Wilder RSI14"
        },
        "xaxis": {
         "autorange": true,
         "gridcolor": "#434343",
         "range": [
          "2020-01-22",
          "2021-07-29"
         ],
         "showgrid": true,
         "tickfont": {
          "color": "#C2C2C2"
         },
         "title": {
          "font": {
           "color": "#D9D9D9"
          },
          "text": ""
         },
         "type": "date",
         "zerolinecolor": "#666570"
        },
        "yaxis": {
         "autorange": true,
         "gridcolor": "#434343",
         "range": [
          29.304916545926545,
          82.65934015825536
         ],
         "showgrid": true,
         "tickfont": {
          "color": "#C2C2C2"
         },
         "title": {
          "font": {
           "color": "#D9D9D9"
          },
          "text": ""
         },
         "type": "linear",
         "zerolinecolor": "#666570"
        }
       }
      },
      "image/png": "[encoded data removed]",
      "text/html": [
       "<div>                            <div id=\"4fa83cb3-ac30-4f8e-b9bb-23a277669e55\" class=\"plotly-graph-div\" style=\"height:525px; width:100%;\"></div>            <script type=\"text/javascript\">                require([\"plotly\"], function(Plotly) {                    window.PLOTLYENV=window.PLOTLYENV || {};\n",
       "                    window.PLOTLYENV.BASE_URL='https://chart-studio.plotly.com';                                    if (document.getElementById(\"4fa83cb3-ac30-4f8e-b9bb-23a277669e55\")) {                    Plotly.newPlot(                        \"4fa83cb3-ac30-4f8e-b9bb-23a277669e55\",                        [{\"line\": {\"color\": \"rgba(0, 30, 255, 1.0)\", \"dash\": \"solid\", \"shape\": \"linear\", \"width\": 1.3}, \"mode\": \"lines\", \"name\": \"MSFT.O's RSI14\", \"text\": \"\", \"type\": \"scatter\", \"x\": [\"2020-01-22\", \"2020-01-23\", \"2020-01-24\", \"2020-01-27\", \"2020-01-28\", \"2020-01-29\", \"2020-01-30\", \"2020-01-31\", \"2020-02-03\", \"2020-02-04\", \"2020-02-05\", \"2020-02-06\", \"2020-02-07\", \"2020-02-10\", \"2020-02-11\", \"2020-02-12\", \"2020-02-13\", \"2020-02-14\", \"2020-02-18\", \"2020-02-19\", \"2020-02-20\", \"2020-02-21\", \"2020-02-24\", \"2020-02-25\", \"2020-02-26\", \"2020-02-27\", \"2020-02-28\", \"2020-03-02\", \"2020-03-03\", \"2020-03-04\", \"2020-03-05\", \"2020-03-06\", \"2020-03-09\", \"2020-03-10\", \"2020-03-11\", \"2020-03-12\", \"2020-03-13\", \"2020-03-16\", \"2020-03-17\", \"2020-03-18\", \"2020-03-19\", \"2020-03-20\", \"2020-03-23\", \"2020-03-24\", \"2020-03-25\", \"2020-03-26\", \"2020-03-27\", \"2020-03-30\", \"2020-03-31\", \"2020-04-01\", \"2020-04-02\", \"2020-04-03\", \"2020-04-06\", \"2020-04-07\", \"2020-04-08\", \"2020-04-09\", \"2020-04-13\", \"2020-04-14\", \"2020-04-15\", \"2020-04-16\", \"2020-04-17\", \"2020-04-20\", \"2020-04-21\", \"2020-04-22\", \"2020-04-23\", \"2020-04-24\", \"2020-04-27\", \"2020-04-28\", \"2020-04-29\", \"2020-04-30\", \"2020-05-01\", \"2020-05-04\", \"2020-05-05\", \"2020-05-06\", \"2020-05-07\", \"2020-05-08\", \"2020-05-11\", \"2020-05-12\", \"2020-05-13\", \"2020-05-14\", \"2020-05-15\", \"2020-05-18\", \"2020-05-19\", \"2020-05-20\", \"2020-05-21\", \"2020-05-22\", \"2020-05-26\", \"2020-05-27\", \"2020-05-28\", \"2020-05-29\", \"2020-06-01\", \"2020-06-02\", \"2020-06-03\", \"2020-06-04\", \"2020-06-05\", \"2020-06-08\", \"2020-06-09\", \"2020-06-10\", \"2020-06-11\", \"2020-06-12\", \"2020-06-15\", \"2020-06-16\", \"2020-06-17\", \"2020-06-18\", \"2020-06-19\", \"2020-06-22\", \"2020-06-23\", \"2020-06-24\", \"2020-06-25\", \"2020-06-26\", \"2020-06-29\", \"2020-06-30\", \"2020-07-01\", \"2020-07-02\", \"2020-07-06\", \"2020-07-07\", \"2020-07-08\", \"2020-07-09\", \"2020-07-10\", \"2020-07-13\", \"2020-07-14\", \"2020-07-15\", \"2020-07-16\", \"2020-07-17\", \"2020-07-20\", \"2020-07-21\", \"2020-07-22\", \"2020-07-23\", \"2020-07-24\", \"2020-07-27\", \"2020-07-28\", \"2020-07-29\", \"2020-07-30\", \"2020-07-31\", \"2020-08-03\", \"2020-08-04\", \"2020-08-05\", \"2020-08-06\", \"2020-08-07\", \"2020-08-10\", \"2020-08-11\", \"2020-08-12\", \"2020-08-13\", \"2020-08-14\", \"2020-08-17\", \"2020-08-18\", \"2020-08-19\", \"2020-08-20\", \"2020-08-21\", \"2020-08-24\", \"2020-08-25\", \"2020-08-26\", \"2020-08-27\", \"2020-08-28\", \"2020-08-31\", \"2020-09-01\", \"2020-09-02\", \"2020-09-03\", \"2020-09-04\", \"2020-09-08\", \"2020-09-09\", \"2020-09-10\", \"2020-09-11\", \"2020-09-14\", \"2020-09-15\", \"2020-09-16\", \"2020-09-17\", \"2020-09-18\", \"2020-09-21\", \"2020-09-22\", \"2020-09-23\", \"2020-09-24\", \"2020-09-25\", \"2020-09-28\", \"2020-09-29\", \"2020-09-30\", \"2020-10-01\", \"2020-10-02\", \"2020-10-05\", \"2020-10-06\", \"2020-10-07\", \"2020-10-08\", \"2020-10-09\", \"2020-10-12\", \"2020-10-13\", \"2020-10-14\", \"2020-10-15\", \"2020-10-16\", \"2020-10-19\", \"2020-10-20\", \"2020-10-21\", \"2020-10-22\", \"2020-10-23\", \"2020-10-26\", \"2020-10-27\", \"2020-10-28\", \"2020-10-29\", \"2020-10-30\", \"2020-11-02\", \"2020-11-03\", \"2020-11-04\", \"2020-11-05\", \"2020-11-06\", \"2020-11-09\", \"2020-11-10\", \"2020-11-11\", \"2020-11-12\", \"2020-11-13\", \"2020-11-16\", \"2020-11-17\", \"2020-11-18\", \"2020-11-19\", \"2020-11-20\", \"2020-11-23\", \"2020-11-24\", \"2020-11-25\", \"2020-11-27\", \"2020-11-30\", \"2020-12-01\", \"2020-12-02\", \"2020-12-03\", \"2020-12-04\", \"2020-12-07\", \"2020-12-08\", \"2020-12-09\", \"2020-12-10\", \"2020-12-11\", \"2020-12-14\", \"2020-12-15\", \"2020-12-16\", \"2020-12-17\", \"2020-12-18\", \"2020-12-21\", \"2020-12-22\", \"2020-12-23\", \"2020-12-24\", \"2020-12-28\", \"2020-12-29\", \"2020-12-30\", \"2020-12-31\", \"2021-01-04\", \"2021-01-05\", \"2021-01-06\", \"2021-01-07\", \"2021-01-08\", \"2021-01-11\", \"2021-01-12\", \"2021-01-13\", \"2021-01-14\", \"2021-01-15\", \"2021-01-19\", \"2021-01-20\", \"2021-01-21\", \"2021-01-22\", \"2021-01-25\", \"2021-01-26\", \"2021-01-27\", \"2021-01-28\", \"2021-01-29\", \"2021-02-01\", \"2021-02-02\", \"2021-02-03\", \"2021-02-04\", \"2021-02-05\", \"2021-02-08\", \"2021-02-09\", \"2021-02-10\", \"2021-02-11\", \"2021-02-12\", \"2021-02-16\", \"2021-02-17\", \"2021-02-18\", \"2021-02-19\", \"2021-02-22\", \"2021-02-23\", \"2021-02-24\", \"2021-02-25\", \"2021-02-26\", \"2021-03-01\", \"2021-03-02\", \"2021-03-03\", \"2021-03-04\", \"2021-03-05\", \"2021-03-08\", \"2021-03-09\", \"2021-03-10\", \"2021-03-11\", \"2021-03-12\", \"2021-03-15\", \"2021-03-16\", \"2021-03-17\", \"2021-03-18\", \"2021-03-19\", \"2021-03-22\", \"2021-03-23\", \"2021-03-24\", \"2021-03-25\", \"2021-03-26\", \"2021-03-29\", \"2021-03-30\", \"2021-03-31\", \"2021-04-01\", \"2021-04-05\", \"2021-04-06\", \"2021-04-07\", \"2021-04-08\", \"2021-04-09\", \"2021-04-12\", \"2021-04-13\", \"2021-04-14\", \"2021-04-15\", \"2021-04-16\", \"2021-04-19\", \"2021-04-20\", \"2021-04-21\", \"2021-04-22\", \"2021-04-23\", \"2021-04-26\", \"2021-04-27\", \"2021-04-28\", \"2021-04-29\", \"2021-04-30\", \"2021-05-03\", \"2021-05-04\", \"2021-05-05\", \"2021-05-06\", \"2021-05-07\", \"2021-05-10\", \"2021-05-11\", \"2021-05-12\", \"2021-05-13\", \"2021-05-14\", \"2021-05-17\", \"2021-05-18\", \"2021-05-19\", \"2021-05-20\", \"2021-05-21\", \"2021-05-24\", \"2021-05-25\", \"2021-05-26\", \"2021-05-27\", \"2021-05-28\", \"2021-06-01\", \"2021-06-02\", \"2021-06-03\", \"2021-06-04\", \"2021-06-07\", \"2021-06-08\", \"2021-06-09\", \"2021-06-10\", \"2021-06-11\", \"2021-06-14\", \"2021-06-15\", \"2021-06-16\", \"2021-06-17\", \"2021-06-18\", \"2021-06-21\", \"2021-06-22\", \"2021-06-23\", \"2021-06-24\", \"2021-06-25\", \"2021-06-28\", \"2021-06-29\", \"2021-06-30\", \"2021-07-01\", \"2021-07-02\", \"2021-07-06\", \"2021-07-07\", \"2021-07-08\", \"2021-07-09\", \"2021-07-12\", \"2021-07-13\", \"2021-07-14\", \"2021-07-15\", \"2021-07-16\", \"2021-07-19\", \"2021-07-20\", \"2021-07-21\", \"2021-07-22\", \"2021-07-23\", \"2021-07-26\", \"2021-07-27\", \"2021-07-28\", \"2021-07-29\"], \"y\": [65.5612244897959, 65.5612244897959, 60.020839321644125, 52.214170305256886, 58.854488483701125, 63.309242298732514, 69.78225689666463, 63.31117627579575, 68.4404431441142, 73.87978893006931, 73.35792380499767, 76.40152286435959, 76.60217512671974, 79.99161897763892, 70.28113393215337, 70.52535541420671, 68.28709215157178, 69.97032811465765, 71.81702036752544, 71.86657262246486, 64.84355082238605, 53.38991180338114, 42.66970433992242, 39.53852784453409, 42.89889913463853, 31.972637726542985, 37.45284835230911, 49.72839951964609, 42.78294874719495, 48.44011780327908, 45.041676700199375, 41.59093822013871, 34.88528982466255, 44.027017829783844, 39.771112930362136, 32.92146166194418, 46.40879373330431, 36.937845758175214, 42.91349083294959, 40.61973064117738, 41.87243276485923, 39.77561793780897, 39.23480896539369, 46.32534114933014, 45.66605789488298, 50.56908114417513, 47.35895534140003, 52.67383382357828, 51.33796341636282, 48.40037915076072, 50.12902784137025, 49.32122705624391, 55.49934334266589, 54.38834228915044, 55.2766621340575, 55.28238104079259, 55.50907328624555, 60.30586830940279, 58.78899975110133, 61.72820681356151, 62.59673930771147, 59.30760940708062, 53.15583695729062, 56.94252377216332, 55.17298727324151, 57.302755705879235, 56.83819421259408, 52.9201502442316, 58.461928692324186, 59.656567587976596, 55.19989018822065, 58.288104557658485, 59.6354726830002, 60.89655889627605, 61.66465372908738, 62.47345353543766, 64.03222817299257, 58.64536145778644, 55.3720906673823, 56.117525328170984, 58.626907748075574, 60.255526648035314, 58.443379684284466, 60.47365056800581, 57.169414849113885, 57.25963693216172, 54.273934156587906, 54.58939788903635, 53.9052127094396, 56.55136049450458, 55.768626005199934, 58.80929643633379, 59.45863493172725, 54.44669921164667, 60.703881892073404, 62.21861380309152, 64.07014395077188, 71.4392844130854, 53.648166043205585, 55.314861651928176, 56.68411910825023, 61.576331094926374, 62.24092741238614, 64.30506620367619, 62.24386062862976, 67.44906405908553, 68.60158300894628, 61.48123131147792, 63.955978454160906, 57.567136955524674, 59.84041693742986, 64.72994473599256, 65.78298159551244, 67.16690353992914, 70.78824989867006, 66.43397110299446, 70.1325681277024, 71.2427395321267, 70.02002191708837, 58.95566102246545, 60.26697426403744, 59.76893326760171, 53.4472689698817, 51.95347289064918, 61.635444347888885, 57.55332872186241, 60.51760918566609, 49.16586921841712, 47.864090343101836, 50.751884877798794, 48.668484446408655, 51.079368842846655, 50.87753552286425, 52.28611009878673, 63.87412580457569, 59.48845830866381, 59.01849040784295, 62.15545614561093, 56.838022800918246, 51.63798860391293, 46.37726321895402, 52.58361779786389, 52.036600380084096, 52.25492257725759, 53.81700450480684, 55.20099943282941, 52.68565685057869, 58.2686161652574, 55.99402778673694, 56.77447454472069, 59.94846422928603, 64.65382945687264, 69.17831497878912, 70.89965155963756, 65.21019986778732, 66.6920080738542, 70.13980904804984, 51.37614257462333, 48.411744775297564, 39.164095168774104, 47.244940449521366, 43.02316818452424, 42.105995294774154, 43.443184134000006, 46.681875147057035, 43.69909899419026, 42.03943980578253, 40.1077126813938, 42.533893868783466, 47.71145173351225, 42.006924683173544, 44.71667036216938, 49.26308245271688, 50.788061189098144, 48.668182542989314, 51.72413104248462, 53.7800898001428, 47.38303859061317, 51.532045528490585, 47.2513819727349, 51.088522648238, 51.810803661678406, 56.6213715027764, 61.09210883725478, 62.188223902667794, 59.70678292749838, 58.206061972036956, 58.20606197203696, 51.412023619165964, 51.89004679245168, 52.067204635022385, 52.18098361099335, 53.93427518171485, 45.659766867402496, 49.92431552632363, 38.94838322304689, 41.616232444096106, 39.562765179991004, 39.432385989416815, 45.134804379167434, 55.97782480715686, 61.63458400013137, 61.96261200932227, 55.61505218826723, 48.24540233525161, 53.25317609832572, 52.16408242890764, 53.15856100006336, 53.85376300335819, 50.7340660252169, 47.14521375817193, 48.69471108216723, 46.472045027006, 46.15907968820424, 50.92575933726716, 50.93823317501043, 52.69915076621165, 51.01718893059687, 53.93795138592073, 52.61182148883566, 50.8023197569182, 50.99507353225354, 50.86986890969533, 53.867085473573766, 46.40480622494463, 44.39127577217072, 49.44788979249372, 51.091003428521574, 50.95817316606745, 59.334803433987815, 59.53713554903757, 57.70404898822393, 63.53151028435715, 65.27065475197944, 58.74502078850298, 61.218869519254824, 64.17430979589787, 62.30031075474736, 56.84869457274656, 58.033527128356916, 48.80841150641631, 49.19455255298111, 40.371212908711115, 50.57644989229487, 52.50407619519924, 49.19488755994892, 45.48436020168517, 47.818855979689964, 43.134981482000676, 42.63378469367939, 49.15128173802595, 59.484174098541615, 60.1791198300589, 61.2913742946124, 65.12372329064081, 67.8082148775888, 68.34242375616085, 73.37590091611187, 61.252734384925816, 67.61099684773183, 67.394173461875, 69.9788060604636, 68.32428183583912, 68.47831672219024, 68.71116703925934, 69.86540937664817, 67.89432133459086, 69.52213932424928, 70.01237429370684, 67.01727673443543, 67.59590682819007, 66.56467371634318, 59.8064241924891, 47.827094751489895, 45.92552335409179, 48.21439105700051, 40.24554121242383, 46.095509271862085, 52.790667771882056, 48.42948781247264, 40.942649373714, 40.06526475047311, 47.213118163843866, 42.49496201772617, 50.56934646382245, 48.99261799251396, 54.30626729437448, 52.578015921953074, 51.37859226920516, 54.804080424537446, 53.85997054748989, 45.83829549886392, 45.41187534774125, 52.64371731748104, 54.47478931407609, 51.609422442451304, 47.63803775540425, 52.82545421542607, 51.189678954439636, 46.912732419972144, 51.91567993617164, 58.914828176028266, 64.58455887198878, 62.9013497775988, 64.57751887453708, 67.19843771402519, 69.1088284300194, 69.1534758625314, 71.08849785614785, 66.07136151204269, 69.22504059500494, 70.1719438900363, 66.61191865866783, 65.74977475221796, 67.91153810994697, 61.742983575879926, 65.66322424996608, 66.039869578245, 66.45593606192594, 53.90734593099615, 51.03617149014435, 50.56925102178901, 50.09068428333795, 44.342797653081085, 42.63407234359671, 47.96689628824379, 51.9917391498229, 44.77757920127922, 43.60521060541325, 35.901272523511096, 42.04736403052114, 48.76841248046722, 45.47385721582397, 43.24909923233002, 43.30599546280472, 48.020208828569544, 46.40023145307349, 53.61667231431496, 54.7168094801745, 54.376961622480515, 51.13508772936236, 51.66183375163676, 48.21289740391786, 48.06134559519769, 45.60659513486584, 53.736750258546564, 57.77718150648326, 55.62889860477689, 57.043793599025726, 61.74480974967895, 62.5312047214292, 64.92068158983037, 61.68009058308923, 59.62702135018864, 64.23225269245813, 61.09791075181166, 65.09132128162052, 68.25024146309316, 67.71181087046048, 69.28316909649358, 65.24728509606419, 69.48810687349274, 72.14002303561344, 70.90188711417437, 71.6358507248233, 77.0288912118425, 77.03666313009649, 78.79086571939222, 72.22121765793254, 72.72854566325614, 71.06211671748504, 74.74141497435573, 76.10892034054392, 72.04558769309797, 71.27034677426848, 61.717441572185024, 64.85117777173082, 67.43602528296339, 72.41458152105763, 75.4275557309443, 73.900810036893, 67.90807844651223, 67.16034043831641, 67.49757841168082]}],                        {\"legend\": {\"bgcolor\": \"#151516\", \"font\": {\"color\": \"#D9D9D9\"}}, \"paper_bgcolor\": \"#151516\", \"plot_bgcolor\": \"#151516\", \"template\": {\"data\": {\"bar\": [{\"error_x\": {\"color\": \"#2a3f5f\"}, \"error_y\": {\"color\": \"#2a3f5f\"}, \"marker\": {\"line\": {\"color\": \"#E5ECF6\", \"width\": 0.5}}, \"type\": \"bar\"}], \"barpolar\": [{\"marker\": {\"line\": {\"color\": \"#E5ECF6\", \"width\": 0.5}}, \"type\": \"barpolar\"}], \"carpet\": [{\"aaxis\": {\"endlinecolor\": \"#2a3f5f\", \"gridcolor\": \"white\", \"linecolor\": \"white\", \"minorgridcolor\": \"white\", \"startlinecolor\": \"#2a3f5f\"}, \"baxis\": {\"endlinecolor\": \"#2a3f5f\", \"gridcolor\": \"white\", \"linecolor\": \"white\", \"minorgridcolor\": \"white\", \"startlinecolor\": \"#2a3f5f\"}, \"type\": \"carpet\"}], \"choropleth\": [{\"colorbar\": {\"outlinewidth\": 0, \"ticks\": \"\"}, \"type\": \"choropleth\"}], \"contour\": [{\"colorbar\": {\"outlinewidth\": 0, \"ticks\": \"\"}, \"colorscale\": [[0.0, \"#0d0887\"], [0.1111111111111111, \"#46039f\"], [0.2222222222222222, \"#7201a8\"], [0.3333333333333333, \"#9c179e\"], [0.4444444444444444, \"#bd3786\"], [0.5555555555555556, \"#d8576b\"], [0.6666666666666666, \"#ed7953\"], [0.7777777777777778, \"#fb9f3a\"], [0.8888888888888888, \"#fdca26\"], [1.0, \"#f0f921\"]], \"type\": \"contour\"}], \"contourcarpet\": [{\"colorbar\": {\"outlinewidth\": 0, \"ticks\": \"\"}, \"type\": \"contourcarpet\"}], \"heatmap\": [{\"colorbar\": {\"outlinewidth\": 0, \"ticks\": \"\"}, \"colorscale\": [[0.0, \"#0d0887\"], [0.1111111111111111, \"#46039f\"], [0.2222222222222222, \"#7201a8\"], [0.3333333333333333, \"#9c179e\"], [0.4444444444444444, \"#bd3786\"], [0.5555555555555556, \"#d8576b\"], [0.6666666666666666, \"#ed7953\"], [0.7777777777777778, \"#fb9f3a\"], [0.8888888888888888, \"#fdca26\"], [1.0, \"#f0f921\"]], \"type\": \"heatmap\"}], \"heatmapgl\": [{\"colorbar\": {\"outlinewidth\": 0, \"ticks\": \"\"}, \"colorscale\": [[0.0, \"#0d0887\"], [0.1111111111111111, \"#46039f\"], [0.2222222222222222, \"#7201a8\"], [0.3333333333333333, \"#9c179e\"], [0.4444444444444444, \"#bd3786\"], [0.5555555555555556, \"#d8576b\"], [0.6666666666666666, \"#ed7953\"], [0.7777777777777778, \"#fb9f3a\"], [0.8888888888888888, \"#fdca26\"], [1.0, \"#f0f921\"]], \"type\": \"heatmapgl\"}], \"histogram\": [{\"marker\": {\"colorbar\": {\"outlinewidth\": 0, \"ticks\": \"\"}}, \"type\": \"histogram\"}], \"histogram2d\": [{\"colorbar\": {\"outlinewidth\": 0, \"ticks\": \"\"}, \"colorscale\": [[0.0, \"#0d0887\"], [0.1111111111111111, \"#46039f\"], [0.2222222222222222, \"#7201a8\"], [0.3333333333333333, \"#9c179e\"], [0.4444444444444444, \"#bd3786\"], [0.5555555555555556, \"#d8576b\"], [0.6666666666666666, \"#ed7953\"], [0.7777777777777778, \"#fb9f3a\"], [0.8888888888888888, \"#fdca26\"], [1.0, \"#f0f921\"]], \"type\": \"histogram2d\"}], \"histogram2dcontour\": [{\"colorbar\": {\"outlinewidth\": 0, \"ticks\": \"\"}, \"colorscale\": [[0.0, \"#0d0887\"], [0.1111111111111111, \"#46039f\"], [0.2222222222222222, \"#7201a8\"], [0.3333333333333333, \"#9c179e\"], [0.4444444444444444, \"#bd3786\"], [0.5555555555555556, \"#d8576b\"], [0.6666666666666666, \"#ed7953\"], [0.7777777777777778, \"#fb9f3a\"], [0.8888888888888888, \"#fdca26\"], [1.0, \"#f0f921\"]], \"type\": \"histogram2dcontour\"}], \"mesh3d\": [{\"colorbar\": {\"outlinewidth\": 0, \"ticks\": \"\"}, \"type\": \"mesh3d\"}], \"parcoords\": [{\"line\": {\"colorbar\": {\"outlinewidth\": 0, \"ticks\": \"\"}}, \"type\": \"parcoords\"}], \"pie\": [{\"automargin\": true, \"type\": \"pie\"}], \"scatter\": [{\"marker\": {\"colorbar\": {\"outlinewidth\": 0, \"ticks\": \"\"}}, \"type\": \"scatter\"}], \"scatter3d\": [{\"line\": {\"colorbar\": {\"outlinewidth\": 0, \"ticks\": \"\"}}, \"marker\": {\"colorbar\": {\"outlinewidth\": 0, \"ticks\": \"\"}}, \"type\": \"scatter3d\"}], \"scattercarpet\": [{\"marker\": {\"colorbar\": {\"outlinewidth\": 0, \"ticks\": \"\"}}, \"type\": \"scattercarpet\"}], \"scattergeo\": [{\"marker\": {\"colorbar\": {\"outlinewidth\": 0, \"ticks\": \"\"}}, \"type\": \"scattergeo\"}], \"scattergl\": [{\"marker\": {\"colorbar\": {\"outlinewidth\": 0, \"ticks\": \"\"}}, \"type\": \"scattergl\"}], \"scattermapbox\": [{\"marker\": {\"colorbar\": {\"outlinewidth\": 0, \"ticks\": \"\"}}, \"type\": \"scattermapbox\"}], \"scatterpolar\": [{\"marker\": {\"colorbar\": {\"outlinewidth\": 0, \"ticks\": \"\"}}, \"type\": \"scatterpolar\"}], \"scatterpolargl\": [{\"marker\": {\"colorbar\": {\"outlinewidth\": 0, \"ticks\": \"\"}}, \"type\": \"scatterpolargl\"}], \"scatterternary\": [{\"marker\": {\"colorbar\": {\"outlinewidth\": 0, \"ticks\": \"\"}}, \"type\": \"scatterternary\"}], \"surface\": [{\"colorbar\": {\"outlinewidth\": 0, \"ticks\": \"\"}, \"colorscale\": [[0.0, \"#0d0887\"], [0.1111111111111111, \"#46039f\"], [0.2222222222222222, \"#7201a8\"], [0.3333333333333333, \"#9c179e\"], [0.4444444444444444, \"#bd3786\"], [0.5555555555555556, \"#d8576b\"], [0.6666666666666666, \"#ed7953\"], [0.7777777777777778, \"#fb9f3a\"], [0.8888888888888888, \"#fdca26\"], [1.0, \"#f0f921\"]], \"type\": \"surface\"}], \"table\": [{\"cells\": {\"fill\": {\"color\": \"#EBF0F8\"}, \"line\": {\"color\": \"white\"}}, \"header\": {\"fill\": {\"color\": \"#C8D4E3\"}, \"line\": {\"color\": \"white\"}}, \"type\": \"table\"}]}, \"layout\": {\"annotationdefaults\": {\"arrowcolor\": \"#2a3f5f\", \"arrowhead\": 0, \"arrowwidth\": 1}, \"autotypenumbers\": \"strict\", \"coloraxis\": {\"colorbar\": {\"outlinewidth\": 0, \"ticks\": \"\"}}, \"colorscale\": {\"diverging\": [[0, \"#8e0152\"], [0.1, \"#c51b7d\"], [0.2, \"#de77ae\"], [0.3, \"#f1b6da\"], [0.4, \"#fde0ef\"], [0.5, \"#f7f7f7\"], [0.6, \"#e6f5d0\"], [0.7, \"#b8e186\"], [0.8, \"#7fbc41\"], [0.9, \"#4d9221\"], [1, \"#276419\"]], \"sequential\": [[0.0, \"#0d0887\"], [0.1111111111111111, \"#46039f\"], [0.2222222222222222, \"#7201a8\"], [0.3333333333333333, \"#9c179e\"], [0.4444444444444444, \"#bd3786\"], [0.5555555555555556, \"#d8576b\"], [0.6666666666666666, \"#ed7953\"], [0.7777777777777778, \"#fb9f3a\"], [0.8888888888888888, \"#fdca26\"], [1.0, \"#f0f921\"]], \"sequentialminus\": [[0.0, \"#0d0887\"], [0.1111111111111111, \"#46039f\"], [0.2222222222222222, \"#7201a8\"], [0.3333333333333333, \"#9c179e\"], [0.4444444444444444, \"#bd3786\"], [0.5555555555555556, \"#d8576b\"], [0.6666666666666666, \"#ed7953\"], [0.7777777777777778, \"#fb9f3a\"], [0.8888888888888888, \"#fdca26\"], [1.0, \"#f0f921\"]]}, \"colorway\": [\"#636efa\", \"#EF553B\", \"#00cc96\", \"#ab63fa\", \"#FFA15A\", \"#19d3f3\", \"#FF6692\", \"#B6E880\", \"#FF97FF\", \"#FECB52\"], \"font\": {\"color\": \"#2a3f5f\"}, \"geo\": {\"bgcolor\": \"white\", \"lakecolor\": \"white\", \"landcolor\": \"#E5ECF6\", \"showlakes\": true, \"showland\": true, \"subunitcolor\": \"white\"}, \"hoverlabel\": {\"align\": \"left\"}, \"hovermode\": \"closest\", \"mapbox\": {\"style\": \"light\"}, \"paper_bgcolor\": \"white\", \"plot_bgcolor\": \"#E5ECF6\", \"polar\": {\"angularaxis\": {\"gridcolor\": \"white\", \"linecolor\": \"white\", \"ticks\": \"\"}, \"bgcolor\": \"#E5ECF6\", \"radialaxis\": {\"gridcolor\": \"white\", \"linecolor\": \"white\", \"ticks\": \"\"}}, \"scene\": {\"xaxis\": {\"backgroundcolor\": \"#E5ECF6\", \"gridcolor\": \"white\", \"gridwidth\": 2, \"linecolor\": \"white\", \"showbackground\": true, \"ticks\": \"\", \"zerolinecolor\": \"white\"}, \"yaxis\": {\"backgroundcolor\": \"#E5ECF6\", \"gridcolor\": \"white\", \"gridwidth\": 2, \"linecolor\": \"white\", \"showbackground\": true, \"ticks\": \"\", \"zerolinecolor\": \"white\"}, \"zaxis\": {\"backgroundcolor\": \"#E5ECF6\", \"gridcolor\": \"white\", \"gridwidth\": 2, \"linecolor\": \"white\", \"showbackground\": true, \"ticks\": \"\", \"zerolinecolor\": \"white\"}}, \"shapedefaults\": {\"line\": {\"color\": \"#2a3f5f\"}}, \"ternary\": {\"aaxis\": {\"gridcolor\": \"white\", \"linecolor\": \"white\", \"ticks\": \"\"}, \"baxis\": {\"gridcolor\": \"white\", \"linecolor\": \"white\", \"ticks\": \"\"}, \"bgcolor\": \"#E5ECF6\", \"caxis\": {\"gridcolor\": \"white\", \"linecolor\": \"white\", \"ticks\": \"\"}}, \"title\": {\"x\": 0.05}, \"xaxis\": {\"automargin\": true, \"gridcolor\": \"white\", \"linecolor\": \"white\", \"ticks\": \"\", \"title\": {\"standoff\": 15}, \"zerolinecolor\": \"white\", \"zerolinewidth\": 2}, \"yaxis\": {\"automargin\": true, \"gridcolor\": \"white\", \"linecolor\": \"white\", \"ticks\": \"\", \"title\": {\"standoff\": 15}, \"zerolinecolor\": \"white\", \"zerolinewidth\": 2}}}, \"title\": {\"font\": {\"color\": \"#D9D9D9\"}, \"text\": \"MSFT.O's Wilder RSI14\"}, \"xaxis\": {\"gridcolor\": \"#434343\", \"showgrid\": true, \"tickfont\": {\"color\": \"#C2C2C2\"}, \"title\": {\"font\": {\"color\": \"#D9D9D9\"}, \"text\": \"\"}, \"zerolinecolor\": \"#666570\"}, \"yaxis\": {\"gridcolor\": \"#434343\", \"showgrid\": true, \"tickfont\": {\"color\": \"#C2C2C2\"}, \"title\": {\"font\": {\"color\": \"#D9D9D9\"}, \"text\": \"\"}, \"zerolinecolor\": \"#666570\"}},                        {\"showLink\": true, \"linkText\": \"Export to chart-studio.plotly.com\", \"plotlyServerURL\": \"https://chart-studio.plotly.com\", \"responsive\": true}                    ).then(function(){\n",
       "                            \n",
       "var gd = document.getElementById('4fa83cb3-ac30-4f8e-b9bb-23a277669e55');\n",
       "var x = new MutationObserver(function (mutations, observer) {{\n",
       "        var display = window.getComputedStyle(gd).display;\n",
       "        if (!display || display === 'none') {{\n",
       "            console.log([gd, 'removed!']);\n",
       "            Plotly.purge(gd);\n",
       "            observer.disconnect();\n",
       "        }}\n",
       "}});\n",
       "\n",
       "// Listen for the removal of the full notebook cells\n",
       "var notebookContainer = gd.closest('#notebook-container');\n",
       "if (notebookContainer) {{\n",
       "    x.observe(notebookContainer, {childList: true});\n",
       "}}\n",
       "\n",
       "// Listen for the clearing of the current output cell\n",
       "var outputEl = gd.closest('.output');\n",
       "if (outputEl) {{\n",
       "    x.observe(outputEl, {childList: true});\n",
       "}}\n",
       "\n",
       "                        })                };                });            </script>        </div>"
      ]
     },
     "metadata": {},
     "output_type": "display_data"
    }
   ],
   "source": [
    "df[\"MSFT.O's RSI14\"].dropna().iplot(title=\"MSFT.O's Wilder RSI14\",\n",
    "                                    colors=\"#001EFF\", theme=\"solar\")"
   ]
  },
  {
   "cell_type": "markdown",
   "metadata": {
    "jp-MarkdownHeadingCollapsed": true,
    "tags": []
   },
   "source": [
    "## Apendix: Mathematical Finction for $RSI_{w, m, 1}$:\n",
    "\n",
    "$$ \\begin{array}{ll}\n",
    "    RSI_{w, m, 1} &= \n",
    "        \\begin{Bmatrix}\n",
    "            100 & \\text{if } \\frac{\\sum_{i=1}^w{|min(P_{t-i+1} - P_{t-i} \\text{ }, \\text{ } 0)|}}{w} = 0 \\\\\n",
    "            100 - \\frac{100}{ 1 +\\frac{\n",
    "                \\frac{\n",
    "                    \\sum_{i=1}^w{max(P_{t-i+1} - P_{t-i} \\text{ }, \\text{ } 0)}\n",
    "                    }{w}}\n",
    "                {\\frac{\n",
    "                    \\sum_{i=1}^w{|min(P_{t-i+1} - P_{t-i} \\text{ }, \\text{ } 0)|}\n",
    "                    }{w}}\n",
    "            } & \\text{otherwise}\n",
    "        \\end{Bmatrix} \\\\\n",
    "    &= \\begin{Bmatrix}\n",
    "            100 & \\text{if } \\sum_{i=1}^w{|min(P_{t-i+1} - P_{t-i} \\text{ }, \\text{ } 0)|} = 0 \\\\\n",
    "            100 - \\frac{100}{ 1 +\\frac{\n",
    "                \\sum_{i=1}^w{max(P_{t-i+1} - P_{t-i} \\text{ }, \\text{ } 0)}}\n",
    "                {\\sum_{i=1}^w{|min(P_{t-i+1} - P_{t-i} \\text{ }, \\text{ } 0)|}}\n",
    "            } & \\text{otherwise}\n",
    "        \\end{Bmatrix} \\\\\n",
    "    \\end{array}\n",
    "$$"
   ]
  },
  {
   "cell_type": "markdown",
   "metadata": {
    "tags": []
   },
   "source": [
    "# References\n",
    "\n",
    "- [How to install Ta-Lib in Python](https://blog.quantinsti.com/install-ta-lib-python/)"
   ]
  }
 ],
 "metadata": {
  "kernelspec": {
   "display_name": "Python 3",
   "language": "python",
   "name": "python3"
  },
  "language_info": {
   "codemirror_mode": {
    "name": "ipython",
    "version": 3
   },
   "file_extension": ".py",
   "mimetype": "text/x-python",
   "name": "python",
   "nbconvert_exporter": "python",
   "pygments_lexer": "ipython3",
   "version": "3.8.2"
  }
 },
 "nbformat": 4,
 "nbformat_minor": 4
}
